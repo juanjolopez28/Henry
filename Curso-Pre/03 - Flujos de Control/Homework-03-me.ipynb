{
 "cells": [
  {
   "attachments": {},
   "cell_type": "markdown",
   "metadata": {},
   "source": [
    "1.-Crear una variable que contenga un elemento del conjunto de números enteros y luego imprimir por pantalla si es mayor o menor a cero"
   ]
  },
  {
   "cell_type": "code",
   "execution_count": 2,
   "metadata": {},
   "outputs": [
    {
     "name": "stdout",
     "output_type": "stream",
     "text": [
      "5  Es mayo que 0\n"
     ]
    }
   ],
   "source": [
    "x=5\n",
    "if x>0:\n",
    "    print( x, \" Es mayor que 0\")\n",
    "else:\n",
    "    print(x, \" Es menor que 0\")"
   ]
  },
  {
   "attachments": {},
   "cell_type": "markdown",
   "metadata": {},
   "source": [
    "2.-Crear dos variables y un condicional que informe si son del mismo tipo de dato"
   ]
  },
  {
   "cell_type": "code",
   "execution_count": 4,
   "metadata": {},
   "outputs": [
    {
     "name": "stdout",
     "output_type": "stream",
     "text": [
      "son el mismo tipo\n"
     ]
    }
   ],
   "source": [
    "x=10\n",
    "y=100\n",
    "if type(x)==type(y):\n",
    "    print(\"son el mismo tipo\")\n",
    "else:\n",
    "    print(\"no son el mismo tipo\")\n"
   ]
  },
  {
   "attachments": {},
   "cell_type": "markdown",
   "metadata": {},
   "source": [
    "3.-Para los valores enteros del 1 al 20, imprimir por pantalla si es par o impar"
   ]
  },
  {
   "cell_type": "code",
   "execution_count": 5,
   "metadata": {},
   "outputs": [
    {
     "name": "stdout",
     "output_type": "stream",
     "text": [
      "1  Es impar\n",
      "2  Es par\n",
      "3  Es impar\n",
      "4  Es par\n",
      "5  Es impar\n",
      "6  Es par\n",
      "7  Es impar\n",
      "8  Es par\n",
      "9  Es impar\n",
      "10  Es par\n",
      "11  Es impar\n",
      "12  Es par\n",
      "13  Es impar\n",
      "14  Es par\n",
      "15  Es impar\n",
      "16  Es par\n",
      "17  Es impar\n",
      "18  Es par\n",
      "19  Es impar\n",
      "20  Es par\n"
     ]
    }
   ],
   "source": [
    "for i in range(1,21):\n",
    "    if i %2==0:\n",
    "        print(i, \" Es par\")\n",
    "    else:\n",
    "        print(i,\" Es impar\")"
   ]
  },
  {
   "attachments": {},
   "cell_type": "markdown",
   "metadata": {},
   "source": [
    "4.-En un ciclo for mostrar para los valores entre 0 y 5 el resultado de elevarlo a la potencia igual a 3"
   ]
  },
  {
   "cell_type": "code",
   "execution_count": 6,
   "metadata": {},
   "outputs": [
    {
     "name": "stdout",
     "output_type": "stream",
     "text": [
      "0\n",
      "1\n",
      "8\n",
      "27\n",
      "64\n",
      "125\n"
     ]
    }
   ],
   "source": [
    "for i in range(0,6):\n",
    "    print (i**3)"
   ]
  },
  {
   "attachments": {},
   "cell_type": "markdown",
   "metadata": {},
   "source": [
    "5.-Crear una variable que contenga un número entero y realizar un ciclo for la misma cantidad de ciclos"
   ]
  },
  {
   "cell_type": "code",
   "execution_count": 7,
   "metadata": {},
   "outputs": [
    {
     "name": "stdout",
     "output_type": "stream",
     "text": [
      "0\n",
      "1\n",
      "2\n"
     ]
    }
   ],
   "source": [
    "x=3\n",
    "for i in range (0,x):\n",
    "    print(i)\n"
   ]
  },
  {
   "attachments": {},
   "cell_type": "markdown",
   "metadata": {},
   "source": [
    "6.-Utilizar un ciclo while para realizar el factorial de un número guardado en una variable, sólo si la variable contiene un número entero mayor a 0"
   ]
  },
  {
   "cell_type": "code",
   "execution_count": 20,
   "metadata": {},
   "outputs": [
    {
     "name": "stdout",
     "output_type": "stream",
     "text": [
      "1\n"
     ]
    }
   ],
   "source": [
    "n=-1\n",
    "fact=1\n",
    "x=0\n",
    "if(type(n)==int):\n",
    "    while x<n:\n",
    "        if x==0:\n",
    "            x+=1\n",
    "            print(\"La variable debe ser mayo a 0\")\n",
    "            continue\n",
    "        fact*=x\n",
    "        x+=1\n",
    "    print (fact)\n",
    "else:\n",
    "    print(\"no es un numero entero\")"
   ]
  },
  {
   "attachments": {},
   "cell_type": "markdown",
   "metadata": {},
   "source": [
    "7.-Crear un ciclo for dentro de un ciclo while"
   ]
  },
  {
   "cell_type": "code",
   "execution_count": 8,
   "metadata": {},
   "outputs": [
    {
     "name": "stdout",
     "output_type": "stream",
     "text": [
      "0\n",
      "0\n",
      "1\n",
      "0\n",
      "1\n",
      "2\n",
      "0\n",
      "1\n",
      "2\n",
      "3\n"
     ]
    }
   ],
   "source": [
    "x=0\n",
    "while x<5:\n",
    "    for i in range (0,x):\n",
    "        print(i)\n",
    "    x+=1 "
   ]
  },
  {
   "attachments": {},
   "cell_type": "markdown",
   "metadata": {},
   "source": [
    "8.-Crear un ciclo while dentro de un ciclo for\n"
   ]
  },
  {
   "cell_type": "code",
   "execution_count": 10,
   "metadata": {},
   "outputs": [
    {
     "name": "stdout",
     "output_type": "stream",
     "text": [
      "0\n",
      "1\n",
      "2\n",
      "3\n",
      "4\n",
      "1\n",
      "2\n",
      "3\n",
      "4\n",
      "2\n",
      "3\n",
      "4\n",
      "3\n",
      "4\n",
      "4\n"
     ]
    }
   ],
   "source": [
    "for i in range(0,5):\n",
    "    while(i<5):\n",
    "        print(i)\n",
    "        i+=1"
   ]
  },
  {
   "attachments": {},
   "cell_type": "markdown",
   "metadata": {},
   "source": [
    "9.-Imprimir los números primos existentes entre 0 y 30"
   ]
  },
  {
   "cell_type": "code",
   "execution_count": 34,
   "metadata": {},
   "outputs": [
    {
     "name": "stdout",
     "output_type": "stream",
     "text": [
      "0 es primo\n",
      "1 es primo\n",
      "2 es primo\n",
      "3 es primo\n",
      "4 no es primo\n",
      "5 es primo\n",
      "6 no es primo\n",
      "7 es primo\n",
      "8 no es primo\n",
      "9 no es primo\n",
      "10 no es primo\n",
      "11 es primo\n"
     ]
    }
   ],
   "source": [
    "'''list_numeros=[]\n",
    "for i in range (0,30):\n",
    "    if (i==1):\n",
    "        continue\n",
    "    if( i==2 or i==3):\n",
    "        list_numeros.append(i)\n",
    "        continue\n",
    "    if i%2!=0 and i%3!=0 and i%4!=0 and i%5!=0 and i%7!=0:\n",
    "        list_numeros.append(i)\n",
    "print(list_numeros)'''\n",
    "#Se puede emplear otras formulas optimas\n",
    "numero=12\n",
    "\n",
    "for i in range(0,12):\n",
    "    primo=True\n",
    "    for j in range (2,i):  \n",
    "        if(i%j==0):\n",
    "            primo=False\n",
    "            break\n",
    "    if primo:\n",
    "        print(i,\"es primo\")\n",
    "    if primo==False:\n",
    "        print(i,\"no es primo\")\n",
    "\n"
   ]
  },
  {
   "attachments": {},
   "cell_type": "markdown",
   "metadata": {},
   "source": [
    "10.-¿Se puede mejorar el proceso del punto 9? Utilizar las sentencias break y/ó continue para tal fin"
   ]
  },
  {
   "cell_type": "code",
   "execution_count": null,
   "metadata": {},
   "outputs": [],
   "source": [
    "numero=12\n",
    "\n",
    "for i in range(0,12):\n",
    "    primo=True\n",
    "    for j in range (2,i):  \n",
    "        if(i%j==0):\n",
    "            primo=False\n",
    "            break #este break ayuda a que no hagan tantos ciclos\n",
    "    if primo:\n",
    "        print(i,\"es primo\")\n",
    "    if primo==False:\n",
    "        print(i,\"no es primo\")"
   ]
  },
  {
   "attachments": {},
   "cell_type": "markdown",
   "metadata": {},
   "source": [
    "11.-En los puntos 9 y 10, se diseño un código que encuentra números primos y además se lo optimizó. ¿Es posible saber en qué medida se optimizó?"
   ]
  },
  {
   "cell_type": "code",
   "execution_count": 12,
   "metadata": {},
   "outputs": [
    {
     "name": "stdout",
     "output_type": "stream",
     "text": [
      "0 es primo\n",
      "1 es primo\n",
      "2 es primo\n",
      "3 es primo\n",
      "4 no es primo\n",
      "5 es primo\n",
      "6 no es primo\n",
      "7 es primo\n",
      "8 no es primo\n",
      "9 no es primo\n",
      "10 no es primo\n",
      "11 es primo\n",
      "12 no es primo\n",
      "13 es primo\n",
      "14 no es primo\n",
      "15 no es primo\n",
      "16 no es primo\n",
      "17 es primo\n",
      "18 no es primo\n",
      "19 es primo\n",
      "20 no es primo\n",
      "21 no es primo\n",
      "22 no es primo\n",
      "23 es primo\n",
      "24 no es primo\n",
      "25 no es primo\n",
      "26 no es primo\n",
      "27 no es primo\n",
      "28 no es primo\n",
      "29 es primo\n",
      "30 no es primo\n",
      "31 es primo\n",
      "32 no es primo\n",
      "33 no es primo\n",
      "34 no es primo\n",
      "35 no es primo\n",
      "36 no es primo\n",
      "37 es primo\n",
      "38 no es primo\n",
      "39 no es primo\n",
      "40 no es primo\n",
      "41 es primo\n",
      "42 no es primo\n",
      "43 es primo\n",
      "44 no es primo\n",
      "45 no es primo\n",
      "46 no es primo\n",
      "47 es primo\n",
      "48 no es primo\n",
      "49 no es primo\n",
      "50 no es primo\n",
      "51 no es primo\n",
      "52 no es primo\n",
      "53 es primo\n",
      "54 no es primo\n",
      "55 no es primo\n",
      "56 no es primo\n",
      "57 no es primo\n",
      "58 no es primo\n",
      "59 es primo\n",
      "60 no es primo\n",
      "Numero de ciclos 1772\n"
     ]
    }
   ],
   "source": [
    "\n",
    "num_ciclos=0\n",
    "for i in range(0,61):\n",
    "    primo=True\n",
    "    for j in range (2,i):\n",
    "        num_ciclos+=1  \n",
    "        if(i%j==0):\n",
    "            primo=False\n",
    "            #break\n",
    "    if primo:\n",
    "        print(i,\"es primo\")\n",
    "    if primo==False:\n",
    "        print(i,\"no es primo\")\n",
    "    num_ciclos+=1\n",
    "print(\"Numero de ciclos\",num_ciclos)\n",
    "#166 sin el break, 437 sin el break, entre 0 y 31\n",
    "# 1772 sin el break, 532 sin el break"
   ]
  },
  {
   "attachments": {},
   "cell_type": "markdown",
   "metadata": {},
   "source": [
    "12.-Si la cantidad de números que se evalúa es mayor a treinta, esa optimización crece?"
   ]
  },
  {
   "cell_type": "code",
   "execution_count": null,
   "metadata": {},
   "outputs": [],
   "source": [
    "#166 sin el break, 437 sin el break, entre 0 y 31\n",
    "# 1772 sin el break, 532 sin el break"
   ]
  },
  {
   "attachments": {},
   "cell_type": "markdown",
   "metadata": {},
   "source": [
    "13.-Aplicando continue, armar un ciclo while que solo imprima los valores divisibles por 12, dentro del rango de números de 100 a 300"
   ]
  },
  {
   "cell_type": "code",
   "execution_count": 14,
   "metadata": {},
   "outputs": [
    {
     "name": "stdout",
     "output_type": "stream",
     "text": [
      "108\n",
      "120\n",
      "132\n",
      "144\n",
      "156\n",
      "168\n",
      "180\n",
      "192\n",
      "204\n",
      "216\n",
      "228\n",
      "240\n",
      "252\n",
      "264\n",
      "276\n",
      "288\n",
      "300\n"
     ]
    }
   ],
   "source": [
    "x=100\n",
    "while x<=300:\n",
    "    if x%12==0:\n",
    "        print(x)\n",
    "    x+=1\n",
    "    "
   ]
  },
  {
   "attachments": {},
   "cell_type": "markdown",
   "metadata": {},
   "source": [
    "14.-Utilizar la función input() que permite hacer ingresos por teclado, para encontrar números primos y dar la opción al usario de buscar el siguiente"
   ]
  },
  {
   "cell_type": "code",
   "execution_count": 23,
   "metadata": {},
   "outputs": [
    {
     "name": "stdout",
     "output_type": "stream",
     "text": [
      "ingreso\n",
      "1 es primo\n",
      "ingreso\n",
      "2 es primo\n",
      "ingreso\n",
      "3 es primo\n",
      "ingreso\n"
     ]
    }
   ],
   "source": [
    "\n",
    "sgt_num=\"si\"\n",
    "n=1\n",
    "while sgt_num==\"si\":\n",
    "    print(\"ingreso\")\n",
    "    primo=True\n",
    "    for j in range (2,n): \n",
    "        if(n%j==0):\n",
    "            primo=False\n",
    "            break\n",
    "    if primo:\n",
    "        print(n,\"es primo\")\n",
    "    sgt_num=input(\"Desea continuar con el sgt primo?\")\n",
    "    n+=1"
   ]
  },
  {
   "attachments": {},
   "cell_type": "markdown",
   "metadata": {},
   "source": [
    "15.-Crear un ciclo while que encuentre dentro del rango de 100 a 300 el primer número divisible por 3 y además múltiplo de 6\n"
   ]
  },
  {
   "cell_type": "code",
   "execution_count": 16,
   "metadata": {},
   "outputs": [
    {
     "name": "stdout",
     "output_type": "stream",
     "text": [
      "102\n"
     ]
    }
   ],
   "source": [
    "x=100\n",
    "while x<300:\n",
    "    if x%3==0 and x%6==0:\n",
    "        print(x)\n",
    "        break\n",
    "    x+=1"
   ]
  }
 ],
 "metadata": {
  "kernelspec": {
   "display_name": "Python 3",
   "language": "python",
   "name": "python3"
  },
  "language_info": {
   "codemirror_mode": {
    "name": "ipython",
    "version": 3
   },
   "file_extension": ".py",
   "mimetype": "text/x-python",
   "name": "python",
   "nbconvert_exporter": "python",
   "pygments_lexer": "ipython3",
   "version": "3.8.10"
  },
  "orig_nbformat": 4,
  "vscode": {
   "interpreter": {
    "hash": "31f2aee4e71d21fbe5cf8b01ff0e069b9275f58929596ceb00d14d90e3e16cd6"
   }
  }
 },
 "nbformat": 4,
 "nbformat_minor": 2
}
