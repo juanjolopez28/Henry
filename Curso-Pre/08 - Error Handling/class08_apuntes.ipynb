{
 "cells": [
  {
   "cell_type": "code",
   "execution_count": 4,
   "metadata": {},
   "outputs": [
    {
     "name": "stderr",
     "output_type": "stream",
     "text": [
      "test_suma_dos_negativos (__main__.CajaNegraTest) ... ok\n",
      "test_suma_dos_postivos (__main__.CajaNegraTest) ... ok\n",
      "\n",
      "----------------------------------------------------------------------\n",
      "Ran 2 tests in 0.002s\n",
      "\n",
      "OK\n"
     ]
    },
    {
     "data": {
      "text/plain": [
       "<unittest.main.TestProgram at 0x7f70a559e9d0>"
      ]
     },
     "execution_count": 4,
     "metadata": {},
     "output_type": "execute_result"
    }
   ],
   "source": [
    "import unittest\n",
    "\n",
    "def suma(num1,num2):\n",
    "    return num1+num2\n",
    "\n",
    "class CajaNegraTest(unittest.TestCase):\n",
    "    def test_suma_dos_postivos(self):\n",
    "        num_1=10\n",
    "        num_2=5\n",
    "        resultad=suma(num_1,num_2)\n",
    "        self.assertEqual(resultad,15)\n",
    "\n",
    "    def test_suma_dos_negativos(self):\n",
    "        num_1=-10\n",
    "        num_2=-7\n",
    "        resultado=suma(num_1,num_2)\n",
    "        self.assertEqual(resultado,-17)\n",
    "\n",
    "unittest.main(argv=[''],verbosity=2,exit=False)"
   ]
  },
  {
   "attachments": {},
   "cell_type": "markdown",
   "metadata": {},
   "source": [
    "Excepciones y control de flujo"
   ]
  },
  {
   "cell_type": "code",
   "execution_count": 10,
   "metadata": {},
   "outputs": [
    {
     "name": "stdout",
     "output_type": "stream",
     "text": [
      "Es division 0\n"
     ]
    }
   ],
   "source": [
    "def division(numero):\n",
    "    try:\n",
    "        return 2/numero\n",
    "    except ZeroDivisionError:\n",
    "        print(\"Es division 0\")\n",
    "    \n",
    "\n",
    "\n",
    "division(0)"
   ]
  },
  {
   "attachments": {},
   "cell_type": "markdown",
   "metadata": {},
   "source": [
    "Afirmaciones con assert"
   ]
  },
  {
   "cell_type": "code",
   "execution_count": 13,
   "metadata": {},
   "outputs": [
    {
     "name": "stdout",
     "output_type": "stream",
     "text": [
      "3\n"
     ]
    }
   ],
   "source": [
    "def suma(a, b):\n",
    "    assert(type(a) == int)\n",
    "    assert(type(b) == int)\n",
    "    return a+b\n",
    "\n",
    "#print(suma(5.4,5.4))\n",
    "print(suma(1,2))"
   ]
  }
 ],
 "metadata": {
  "kernelspec": {
   "display_name": "Python 3",
   "language": "python",
   "name": "python3"
  },
  "language_info": {
   "codemirror_mode": {
    "name": "ipython",
    "version": 3
   },
   "file_extension": ".py",
   "mimetype": "text/x-python",
   "name": "python",
   "nbconvert_exporter": "python",
   "pygments_lexer": "ipython3",
   "version": "3.8.10"
  },
  "orig_nbformat": 4
 },
 "nbformat": 4,
 "nbformat_minor": 2
}
