{
 "cells": [
  {
   "attachments": {},
   "cell_type": "markdown",
   "metadata": {},
   "source": [
    "1.-Con la clase creada en el módulo 7, tener en cuenta diferentes casos en que el código pudiera arrojar error. Por ejemplo, en la creación del objeto recibimos una lista de números enteros pero ¿qué pasa si se envía otro tipo de dato?"
   ]
  },
  {
   "cell_type": "code",
   "execution_count": 2,
   "metadata": {},
   "outputs": [
    {
     "ename": "AssertionError",
     "evalue": "",
     "output_type": "error",
     "traceback": [
      "\u001b[0;31m---------------------------------------------------------------------------\u001b[0m",
      "\u001b[0;31mAssertionError\u001b[0m                            Traceback (most recent call last)",
      "Cell \u001b[0;32mIn[2], line 44\u001b[0m\n\u001b[1;32m     42\u001b[0m         \u001b[39mreturn\u001b[39;00m(lista[index_masRe])\n\u001b[1;32m     43\u001b[0m a1\u001b[39m=\u001b[39mfunciones([\u001b[39m1\u001b[39m,\u001b[39m2\u001b[39m,\u001b[39m3\u001b[39m,\u001b[39m4\u001b[39m])\n\u001b[0;32m---> 44\u001b[0m a2\u001b[39m=\u001b[39mfunciones(\u001b[39m12\u001b[39;49m)\n",
      "Cell \u001b[0;32mIn[2], line 3\u001b[0m, in \u001b[0;36mfunciones.__init__\u001b[0;34m(self, lista)\u001b[0m\n\u001b[1;32m      2\u001b[0m \u001b[39mdef\u001b[39;00m \u001b[39m__init__\u001b[39m(\u001b[39mself\u001b[39m,lista):\n\u001b[0;32m----> 3\u001b[0m     \u001b[39massert\u001b[39;00m(\u001b[39mtype\u001b[39m(lista) \u001b[39m==\u001b[39m \u001b[39mlist\u001b[39m)\n\u001b[1;32m      5\u001b[0m     \u001b[39mself\u001b[39m\u001b[39m.\u001b[39mlista\u001b[39m=\u001b[39mlista\n",
      "\u001b[0;31mAssertionError\u001b[0m: "
     ]
    }
   ],
   "source": [
    "class funciones:\n",
    "    def __init__(self,lista):\n",
    "        assert(type(lista) == list)\n",
    "            \n",
    "        self.lista=lista\n",
    "    def __es_primo(self,numero):\n",
    "        if(numero==0 or numero==1 or numero==2):\n",
    "            return False\n",
    "        else:\n",
    "            #for i in range(2,numero):\n",
    "            for i in range(2,int(numero/2)+1):\n",
    "            #podemos solo tomar la mitad del numero que se usara\n",
    "                if numero%i==0:\n",
    "                    return False\n",
    "            return True\n",
    "    def es_primo(self):\n",
    "        for i in self.lista:\n",
    "            if self.__es_primo(i):\n",
    "                print(\"Es primo\")\n",
    "            else:\n",
    "                print(\"No es primo\")\n",
    "    def factorial1(self,numero):\n",
    "        if(type(numero) != int):\n",
    "            return 'El numero debe ser un entero'\n",
    "        if(numero < 0):\n",
    "            return 'El numero debe ser pisitivo'\n",
    "        if (numero > 1):\n",
    "            numero*=self.factorial1(numero - 1)\n",
    "        return numero\n",
    "    \n",
    "    def mas_repetido(self, lista):\n",
    "        index_masRe=0\n",
    "        mas_repe=0\n",
    "        temp=0\n",
    "        max_count=0\n",
    "        for index,valor in enumerate(lista):\n",
    "            temp=lista.count(valor)\n",
    "            if(temp>=max_count):\n",
    "                max_count=temp\n",
    "                index_masRe=index\n",
    "        print(\"El mas repetido es:\",lista[index_masRe],\"se repite\",max_count)\n",
    "        return(lista[index_masRe])\n",
    "a1=funciones([1,2,3,4])\n",
    "a2=funciones(12)\n"
   ]
  },
  {
   "attachments": {},
   "cell_type": "markdown",
   "metadata": {},
   "source": [
    "2.-En la función que hace la conversión de grados, validar que los parámetros enviados sean los esperados, de no serlo, informar cuáles son los valores esperados."
   ]
  },
  {
   "cell_type": "code",
   "execution_count": 8,
   "metadata": {},
   "outputs": [
    {
     "name": "stdout",
     "output_type": "stream",
     "text": [
      "No paso los parametros correctos, debe ser: [entero,'F' o 'C' o 'K']\n",
      "None\n"
     ]
    }
   ],
   "source": [
    "def grados(valor,medida_orig,medida_des):\n",
    "    if ((type(valor)==int) and (medida_orig=='C'or medida_orig=='F' or medida_orig=='K') and (medida_des=='C'or medida_des=='F' or medida_des=='K')):\n",
    "        if (medida_orig == 'C'):\n",
    "            if (medida_des == 'C'):\n",
    "                valor_destino = valor\n",
    "            elif (medida_des == 'F'):\n",
    "                valor_destino = (valor * 9 / 5) + 32\n",
    "            elif (medida_des == 'K'):\n",
    "                valor_destino = valor + 273.15\n",
    "            else:\n",
    "                print('Parámetro de Destino incorrecto')\n",
    "        elif (medida_orig == 'F'):\n",
    "            if (medida_des == 'C'):\n",
    "                valor_destino = (valor - 32) * 5 / 9\n",
    "            elif (medida_des == 'F'):\n",
    "                valor_destino = valor\n",
    "            elif (medida_des == 'K'):\n",
    "                valor_destino = ((valor - 32) * 5 / 9) + 273.15\n",
    "            else:\n",
    "                print('Parámetro de Destino incorrecto')\n",
    "        elif (medida_orig == 'K'):\n",
    "            if (medida_des == 'C'):\n",
    "                valor_destino = valor - 273.15\n",
    "            elif (medida_des == 'F'):\n",
    "                valor_destino = ((valor - 273.15) * 9 / 5) + 32\n",
    "            elif (medida_des == 'K'):\n",
    "                valor_destino = valor\n",
    "            else:\n",
    "                print('Parámetro de Destino incorrecto')\n",
    "        else:\n",
    "            print('Parámetro de medida_orig incorrecto')\n",
    "        return valor_destino\n",
    "    else:\n",
    "        print(\"No paso los parametros correctos, debe ser: [entero,'F' o 'C' o 'K']\")\n",
    "\n",
    "print(grados(31,'l','F'))"
   ]
  },
  {
   "attachments": {},
   "cell_type": "markdown",
   "metadata": {},
   "source": [
    "3.- Importar el modulo \"unittest\" y crear los siguientes casos de pruebas sobre la clase utilizada en el punto 2\n",
    "Creacion del objeto incorrecta\n",
    "Creacion correcta del objeto\n",
    "Metodo valor_modal()\n",
    "Se puede usar \"raise ValueError()\" en la creación de la clase para verificar el error. Investigar sobre esta funcionalidad."
   ]
  },
  {
   "cell_type": "code",
   "execution_count": 11,
   "metadata": {},
   "outputs": [
    {
     "name": "stderr",
     "output_type": "stream",
     "text": [
      "testCreacion (__main__.testFunciones) ... FAIL\n",
      "test_crear_objeto2 (__main__.testFunciones) ... ok\n",
      "test_modal (__main__.testFunciones) ... "
     ]
    },
    {
     "name": "stdout",
     "output_type": "stream",
     "text": [
      "El mas repetido es: 1 se repite 2\n"
     ]
    },
    {
     "name": "stderr",
     "output_type": "stream",
     "text": [
      "ok\n",
      "\n",
      "======================================================================\n",
      "FAIL: testCreacion (__main__.testFunciones)\n",
      "----------------------------------------------------------------------\n",
      "Traceback (most recent call last):\n",
      "  File \"/tmp/ipykernel_252/2148675038.py\", line 50, in testCreacion\n",
      "    self.assertRaises(ValueError, funciones, param)\n",
      "AssertionError: ValueError not raised by funciones\n",
      "\n",
      "----------------------------------------------------------------------\n",
      "Ran 3 tests in 0.003s\n",
      "\n",
      "FAILED (failures=1)\n"
     ]
    },
    {
     "data": {
      "text/plain": [
       "<unittest.main.TestProgram at 0x7f2510248160>"
      ]
     },
     "execution_count": 11,
     "metadata": {},
     "output_type": "execute_result"
    }
   ],
   "source": [
    "import unittest\n",
    "\n",
    "class funciones:\n",
    "    def __init__(self,lista):\n",
    "        self.lista=lista\n",
    "        \n",
    "    def __es_primo(self,numero):\n",
    "        if(numero==0 or numero==1 or numero==2):\n",
    "            return False\n",
    "        else:\n",
    "            #for i in range(2,numero):\n",
    "            for i in range(2,int(numero/2)+1):\n",
    "            #podemos solo tomar la mitad del numero que se usara\n",
    "                if numero%i==0:\n",
    "                    return False\n",
    "            return True\n",
    "    def es_primo(self):\n",
    "        for i in self.lista:\n",
    "            if self.__es_primo(i):\n",
    "                print(\"Es primo\")\n",
    "            else:\n",
    "                print(\"No es primo\")\n",
    "    def factorial1(self,numero):\n",
    "        if(type(numero) != int):\n",
    "            return 'El numero debe ser un entero'\n",
    "        if(numero < 0):\n",
    "            return 'El numero debe ser pisitivo'\n",
    "        if (numero > 1):\n",
    "            numero*=self.factorial1(numero - 1)\n",
    "        return numero\n",
    "    \n",
    "    def mas_repetido(self):\n",
    "        index_masRe=0\n",
    "        mas_repe=0\n",
    "        temp=0\n",
    "        max_count=0\n",
    "        for index,valor in enumerate(self.lista):\n",
    "            temp=self.lista.count(valor)\n",
    "            if(temp>=max_count):\n",
    "                max_count=temp\n",
    "                index_masRe=index\n",
    "        print(\"El mas repetido es:\",self.lista[index_masRe],\"se repite\",max_count)\n",
    "        return(self.lista[index_masRe])\n",
    "\n",
    "\n",
    "class testFunciones(unittest.TestCase):\n",
    "    def testCreacion(self):\n",
    "        #param = 'hola'\n",
    "        param=[1,2,3,4]\n",
    "        self.assertRaises(ValueError, funciones, param)\n",
    "    def test_crear_objeto2(self):\n",
    "        param = [1,2,2,5]\n",
    "        h1 = funciones(param)\n",
    "        self.assertEqual(h1.lista, param)\n",
    "    def test_modal(self):\n",
    "        param=[1,1,2,3,4]\n",
    "        h1=funciones(param)\n",
    "        self.assertEqual(h1.mas_repetido(),1)\n",
    "\n",
    "unittest.main(argv=[''], verbosity=2, exit=False)        \n"
   ]
  },
  {
   "attachments": {},
   "cell_type": "markdown",
   "metadata": {},
   "source": [
    "4.-Probar una creación incorrecta y visualizar la salida del \"raise\""
   ]
  },
  {
   "cell_type": "code",
   "execution_count": null,
   "metadata": {},
   "outputs": [],
   "source": []
  },
  {
   "attachments": {},
   "cell_type": "markdown",
   "metadata": {},
   "source": [
    "5.-Agregar casos de pruebas para el método verifica_primos() realizando el cambio en la clase, para que devuelva una lista de True o False en función de que el elemento en la posisicón sea o no primo"
   ]
  },
  {
   "cell_type": "code",
   "execution_count": 13,
   "metadata": {},
   "outputs": [
    {
     "name": "stderr",
     "output_type": "stream",
     "text": [
      "testCreacion (__main__.testFunciones) ... FAIL\n",
      "test_crear_objeto2 (__main__.testFunciones) ... ok\n",
      "test_modal (__main__.testFunciones) ... ok\n",
      "test_primo (__main__.testFunciones) ... "
     ]
    },
    {
     "name": "stdout",
     "output_type": "stream",
     "text": [
      "El mas repetido es: 1 se repite 2\n"
     ]
    },
    {
     "name": "stderr",
     "output_type": "stream",
     "text": [
      "ok\n",
      "\n",
      "======================================================================\n",
      "FAIL: testCreacion (__main__.testFunciones)\n",
      "----------------------------------------------------------------------\n",
      "Traceback (most recent call last):\n",
      "  File \"/tmp/ipykernel_252/2273870593.py\", line 52, in testCreacion\n",
      "    self.assertRaises(ValueError, funciones, param)\n",
      "AssertionError: ValueError not raised by funciones\n",
      "\n",
      "----------------------------------------------------------------------\n",
      "Ran 4 tests in 0.007s\n",
      "\n",
      "FAILED (failures=1)\n"
     ]
    },
    {
     "data": {
      "text/plain": [
       "<unittest.main.TestProgram at 0x7f25102480a0>"
      ]
     },
     "execution_count": 13,
     "metadata": {},
     "output_type": "execute_result"
    }
   ],
   "source": [
    "import unittest\n",
    "\n",
    "class funciones:\n",
    "    def __init__(self,lista):\n",
    "        self.lista=lista\n",
    "        \n",
    "    def __es_primo(self,numero):\n",
    "        if(numero==0 or numero==1 or numero==2):\n",
    "            return False\n",
    "        else:\n",
    "            #for i in range(2,numero):\n",
    "            for i in range(2,int(numero/2)+1):\n",
    "            #podemos solo tomar la mitad del numero que se usara\n",
    "                if numero%i==0:\n",
    "                    return False\n",
    "            return True\n",
    "    def es_primo(self):\n",
    "        lista1=[]\n",
    "        for i in self.lista:\n",
    "            if self.__es_primo(i):\n",
    "                lista1.append(True)\n",
    "            else:\n",
    "                lista1.append(False)\n",
    "        return lista1\n",
    "    def factorial1(self,numero):\n",
    "        if(type(numero) != int):\n",
    "            return 'El numero debe ser un entero'\n",
    "        if(numero < 0):\n",
    "            return 'El numero debe ser pisitivo'\n",
    "        if (numero > 1):\n",
    "            numero*=self.factorial1(numero - 1)\n",
    "        return numero\n",
    "    \n",
    "    def mas_repetido(self):\n",
    "        index_masRe=0\n",
    "        mas_repe=0\n",
    "        temp=0\n",
    "        max_count=0\n",
    "        for index,valor in enumerate(self.lista):\n",
    "            temp=self.lista.count(valor)\n",
    "            if(temp>=max_count):\n",
    "                max_count=temp\n",
    "                index_masRe=index\n",
    "        print(\"El mas repetido es:\",self.lista[index_masRe],\"se repite\",max_count)\n",
    "        return(self.lista[index_masRe])\n",
    "\n",
    "\n",
    "class testFunciones(unittest.TestCase):\n",
    "    def testCreacion(self):\n",
    "        #param = 'hola'\n",
    "        param=[1,2,3,4]\n",
    "        self.assertRaises(ValueError, funciones, param)\n",
    "    def test_crear_objeto2(self):\n",
    "        param = [1,2,2,5]\n",
    "        h1 = funciones(param)\n",
    "        self.assertEqual(h1.lista, param)\n",
    "    def test_modal(self):\n",
    "        param=[1,1,2,3,4]\n",
    "        h1=funciones(param)\n",
    "        self.assertEqual(h1.mas_repetido(),1)\n",
    "    def test_primo(self):\n",
    "        param=[1,2,3,4,5,6]\n",
    "        h1=funciones(param)\n",
    "        self.assertEqual(h1.es_primo(),[False,False,True,False,True,False])\n",
    "\n",
    "unittest.main(argv=[''], verbosity=2, exit=False)   "
   ]
  },
  {
   "attachments": {},
   "cell_type": "markdown",
   "metadata": {},
   "source": [
    "6.-Agregar casos de pruebas para el método conversion_grados()"
   ]
  },
  {
   "cell_type": "code",
   "execution_count": 17,
   "metadata": {},
   "outputs": [
    {
     "name": "stderr",
     "output_type": "stream",
     "text": [
      "testCreacion (__main__.testFunciones) ... FAIL\n",
      "test_crear_objeto2 (__main__.testFunciones) ... ok\n",
      "test_grados (__main__.testFunciones) ... ok\n",
      "test_modal (__main__.testFunciones) ... ok\n",
      "test_primo (__main__.testFunciones) ... "
     ]
    },
    {
     "name": "stdout",
     "output_type": "stream",
     "text": [
      "El mas repetido es: 1 se repite 2\n"
     ]
    },
    {
     "name": "stderr",
     "output_type": "stream",
     "text": [
      "ok\n",
      "\n",
      "======================================================================\n",
      "FAIL: testCreacion (__main__.testFunciones)\n",
      "----------------------------------------------------------------------\n",
      "Traceback (most recent call last):\n",
      "  File \"/tmp/ipykernel_252/2822900799.py\", line 84, in testCreacion\n",
      "    self.assertRaises(ValueError, funciones, param)\n",
      "AssertionError: ValueError not raised by funciones\n",
      "\n",
      "----------------------------------------------------------------------\n",
      "Ran 5 tests in 0.006s\n",
      "\n",
      "FAILED (failures=1)\n"
     ]
    },
    {
     "data": {
      "text/plain": [
       "<unittest.main.TestProgram at 0x7f25101a3e50>"
      ]
     },
     "execution_count": 17,
     "metadata": {},
     "output_type": "execute_result"
    }
   ],
   "source": [
    "import unittest\n",
    "\n",
    "class funciones:\n",
    "    def __init__(self,lista):\n",
    "        self.lista=lista\n",
    "        \n",
    "    def __es_primo(self,numero):\n",
    "        if(numero==0 or numero==1 or numero==2):\n",
    "            return False\n",
    "        else:\n",
    "            #for i in range(2,numero):\n",
    "            for i in range(2,int(numero/2)+1):\n",
    "            #podemos solo tomar la mitad del numero que se usara\n",
    "                if numero%i==0:\n",
    "                    return False\n",
    "            return True\n",
    "    def es_primo(self):\n",
    "        lista1=[]\n",
    "        for i in self.lista:\n",
    "            if self.__es_primo(i):\n",
    "                lista1.append(True)\n",
    "            else:\n",
    "                lista1.append(False)\n",
    "        return lista1\n",
    "    def factorial1(self,numero):\n",
    "        if(type(numero) != int):\n",
    "            return 'El numero debe ser un entero'\n",
    "        if(numero < 0):\n",
    "            return 'El numero debe ser pisitivo'\n",
    "        if (numero > 1):\n",
    "            numero*=self.factorial1(numero - 1)\n",
    "        return numero\n",
    "    \n",
    "    def mas_repetido(self):\n",
    "        index_masRe=0\n",
    "        mas_repe=0\n",
    "        temp=0\n",
    "        max_count=0\n",
    "        for index,valor in enumerate(self.lista):\n",
    "            temp=self.lista.count(valor)\n",
    "            if(temp>=max_count):\n",
    "                max_count=temp\n",
    "                index_masRe=index\n",
    "        print(\"El mas repetido es:\",self.lista[index_masRe],\"se repite\",max_count)\n",
    "        return(self.lista[index_masRe])\n",
    "    def grados(self,valor,medida_orig,medida_des):\n",
    "        nuevo=0\n",
    "        if (medida_orig == 'C'):\n",
    "            if (medida_des == 'C'):\n",
    "                valor_destino = valor\n",
    "            elif (medida_des == 'F'):\n",
    "                valor_destino = (valor * 9 / 5) + 32\n",
    "            elif (medida_des == 'K'):\n",
    "                valor_destino = valor + 273.15\n",
    "            else:\n",
    "                print('Parámetro de Destino incorrecto')\n",
    "        elif (medida_orig == 'F'):\n",
    "            if (medida_des == 'C'):\n",
    "                valor_destino = (valor - 32) * 5 / 9\n",
    "            elif (medida_des == 'F'):\n",
    "                valor_destino = valor\n",
    "            elif (medida_des == 'K'):\n",
    "                valor_destino = ((valor - 32) * 5 / 9) + 273.15\n",
    "            else:\n",
    "                print('Parámetro de Destino incorrecto')\n",
    "        elif (medida_orig == 'K'):\n",
    "            if (medida_des == 'C'):\n",
    "                valor_destino = valor - 273.15\n",
    "            elif (medida_des == 'F'):\n",
    "                valor_destino = ((valor - 273.15) * 9 / 5) + 32\n",
    "            elif (medida_des == 'K'):\n",
    "                valor_destino = valor\n",
    "            else:\n",
    "                print('Parámetro de Destino incorrecto')\n",
    "        else:\n",
    "            print('Parámetro de medida_orig incorrecto')\n",
    "        return valor_destino\n",
    "\n",
    "\n",
    "class testFunciones(unittest.TestCase):\n",
    "    def testCreacion(self):\n",
    "        #param = 'hola'\n",
    "        param=[1,2,3,4]\n",
    "        self.assertRaises(ValueError, funciones, param)\n",
    "    def test_crear_objeto2(self):\n",
    "        param = [1,2,2,5]\n",
    "        h1 = funciones(param)\n",
    "        self.assertEqual(h1.lista, param)\n",
    "    def test_modal(self):\n",
    "        param=[1,1,2,3,4]\n",
    "        h1=funciones(param)\n",
    "        self.assertEqual(h1.mas_repetido(),1)\n",
    "    def test_primo(self):\n",
    "        param=[1,2,3,4,5,6]\n",
    "        h1=funciones(param)\n",
    "        self.assertEqual(h1.es_primo(),[False,False,True,False,True,False])\n",
    "    def test_grados(self):\n",
    "        grado=31\n",
    "        medida_orig='C'\n",
    "        medida_des='F'\n",
    "        h1=funciones([1,2,3])\n",
    "        self.assertEqual(h1.grados(grado,medida_orig,medida_des),87.8)\n",
    "\n",
    "unittest.main(argv=[''], verbosity=2, exit=False)  "
   ]
  },
  {
   "attachments": {},
   "cell_type": "markdown",
   "metadata": {},
   "source": [
    "7.-Agregar casos de pruebas para el método factorial()"
   ]
  },
  {
   "cell_type": "code",
   "execution_count": 18,
   "metadata": {},
   "outputs": [
    {
     "name": "stderr",
     "output_type": "stream",
     "text": [
      "testCreacion (__main__.testFunciones) ... FAIL\n",
      "test_crear_objeto2 (__main__.testFunciones) ... ok\n",
      "test_factorial (__main__.testFunciones) ... ok\n",
      "test_grados (__main__.testFunciones) ... ok\n",
      "test_modal (__main__.testFunciones) ... ok\n",
      "test_primo (__main__.testFunciones) ... "
     ]
    },
    {
     "name": "stdout",
     "output_type": "stream",
     "text": [
      "El mas repetido es: 1 se repite 2\n"
     ]
    },
    {
     "name": "stderr",
     "output_type": "stream",
     "text": [
      "ok\n",
      "\n",
      "======================================================================\n",
      "FAIL: testCreacion (__main__.testFunciones)\n",
      "----------------------------------------------------------------------\n",
      "Traceback (most recent call last):\n",
      "  File \"/tmp/ipykernel_252/478636606.py\", line 84, in testCreacion\n",
      "    self.assertRaises(ValueError, funciones, param)\n",
      "AssertionError: ValueError not raised by funciones\n",
      "\n",
      "----------------------------------------------------------------------\n",
      "Ran 6 tests in 0.012s\n",
      "\n",
      "FAILED (failures=1)\n"
     ]
    },
    {
     "data": {
      "text/plain": [
       "<unittest.main.TestProgram at 0x7f25101dd9a0>"
      ]
     },
     "execution_count": 18,
     "metadata": {},
     "output_type": "execute_result"
    }
   ],
   "source": [
    "import unittest\n",
    "\n",
    "class funciones:\n",
    "    def __init__(self,lista):\n",
    "        self.lista=lista\n",
    "        \n",
    "    def __es_primo(self,numero):\n",
    "        if(numero==0 or numero==1 or numero==2):\n",
    "            return False\n",
    "        else:\n",
    "            #for i in range(2,numero):\n",
    "            for i in range(2,int(numero/2)+1):\n",
    "            #podemos solo tomar la mitad del numero que se usara\n",
    "                if numero%i==0:\n",
    "                    return False\n",
    "            return True\n",
    "    def es_primo(self):\n",
    "        lista1=[]\n",
    "        for i in self.lista:\n",
    "            if self.__es_primo(i):\n",
    "                lista1.append(True)\n",
    "            else:\n",
    "                lista1.append(False)\n",
    "        return lista1\n",
    "    def factorial1(self,numero):\n",
    "        if(type(numero) != int):\n",
    "            return 'El numero debe ser un entero'\n",
    "        if(numero < 0):\n",
    "            return 'El numero debe ser pisitivo'\n",
    "        if (numero > 1):\n",
    "            numero*=self.factorial1(numero - 1)\n",
    "        return numero\n",
    "    \n",
    "    def mas_repetido(self):\n",
    "        index_masRe=0\n",
    "        mas_repe=0\n",
    "        temp=0\n",
    "        max_count=0\n",
    "        for index,valor in enumerate(self.lista):\n",
    "            temp=self.lista.count(valor)\n",
    "            if(temp>=max_count):\n",
    "                max_count=temp\n",
    "                index_masRe=index\n",
    "        print(\"El mas repetido es:\",self.lista[index_masRe],\"se repite\",max_count)\n",
    "        return(self.lista[index_masRe])\n",
    "    def grados(self,valor,medida_orig,medida_des):\n",
    "        nuevo=0\n",
    "        if (medida_orig == 'C'):\n",
    "            if (medida_des == 'C'):\n",
    "                valor_destino = valor\n",
    "            elif (medida_des == 'F'):\n",
    "                valor_destino = (valor * 9 / 5) + 32\n",
    "            elif (medida_des == 'K'):\n",
    "                valor_destino = valor + 273.15\n",
    "            else:\n",
    "                print('Parámetro de Destino incorrecto')\n",
    "        elif (medida_orig == 'F'):\n",
    "            if (medida_des == 'C'):\n",
    "                valor_destino = (valor - 32) * 5 / 9\n",
    "            elif (medida_des == 'F'):\n",
    "                valor_destino = valor\n",
    "            elif (medida_des == 'K'):\n",
    "                valor_destino = ((valor - 32) * 5 / 9) + 273.15\n",
    "            else:\n",
    "                print('Parámetro de Destino incorrecto')\n",
    "        elif (medida_orig == 'K'):\n",
    "            if (medida_des == 'C'):\n",
    "                valor_destino = valor - 273.15\n",
    "            elif (medida_des == 'F'):\n",
    "                valor_destino = ((valor - 273.15) * 9 / 5) + 32\n",
    "            elif (medida_des == 'K'):\n",
    "                valor_destino = valor\n",
    "            else:\n",
    "                print('Parámetro de Destino incorrecto')\n",
    "        else:\n",
    "            print('Parámetro de medida_orig incorrecto')\n",
    "        return valor_destino\n",
    "\n",
    "\n",
    "class testFunciones(unittest.TestCase):\n",
    "    def testCreacion(self):\n",
    "        #param = 'hola'\n",
    "        param=[1,2,3,4]\n",
    "        self.assertRaises(ValueError, funciones, param)\n",
    "    def test_crear_objeto2(self):\n",
    "        param = [1,2,2,5]\n",
    "        h1 = funciones(param)\n",
    "        self.assertEqual(h1.lista, param)\n",
    "    def test_modal(self):\n",
    "        param=[1,1,2,3,4]\n",
    "        h1=funciones(param)\n",
    "        self.assertEqual(h1.mas_repetido(),1)\n",
    "    def test_primo(self):\n",
    "        param=[1,2,3,4,5,6]\n",
    "        h1=funciones(param)\n",
    "        self.assertEqual(h1.es_primo(),[False,False,True,False,True,False])\n",
    "    def test_grados(self):\n",
    "        grado=31\n",
    "        medida_orig='C'\n",
    "        medida_des='F'\n",
    "        h1=funciones([1,2,3])\n",
    "        self.assertEqual(h1.grados(grado,medida_orig,medida_des),87.8)\n",
    "    def test_factorial(self):\n",
    "        num=4\n",
    "        h1=funciones([1,2,3])\n",
    "        self.assertEqual(h1.factorial1(num),24)\n",
    "\n",
    "unittest.main(argv=[''], verbosity=2, exit=False)  "
   ]
  },
  {
   "attachments": {},
   "cell_type": "markdown",
   "metadata": {},
   "source": [
    "8.-Completar el código en las funciones del archivo \"checkpoint.py\" y probarlo a partir de la ejecución del script \"tests.py\""
   ]
  }
 ],
 "metadata": {
  "kernelspec": {
   "display_name": "Python 3",
   "language": "python",
   "name": "python3"
  },
  "language_info": {
   "codemirror_mode": {
    "name": "ipython",
    "version": 3
   },
   "file_extension": ".py",
   "mimetype": "text/x-python",
   "name": "python",
   "nbconvert_exporter": "python",
   "pygments_lexer": "ipython3",
   "version": "3.8.10"
  },
  "orig_nbformat": 4
 },
 "nbformat": 4,
 "nbformat_minor": 2
}
