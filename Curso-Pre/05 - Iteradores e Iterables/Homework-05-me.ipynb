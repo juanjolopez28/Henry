{
 "cells": [
  {
   "attachments": {},
   "cell_type": "markdown",
   "metadata": {},
   "source": [
    "1.-A partir de una lista vacía, utilizar un ciclo while para cargar allí números negativos del -15 al -1"
   ]
  },
  {
   "cell_type": "code",
   "execution_count": 19,
   "metadata": {},
   "outputs": [
    {
     "name": "stdout",
     "output_type": "stream",
     "text": [
      "[-1, -2, -3, -4, -5, -6, -7, -8, -9, -10, -11, -12, -13, -14, -15]\n"
     ]
    }
   ],
   "source": [
    "i=-1\n",
    "lista=[]\n",
    "while(i>=-15):\n",
    "    lista.append(i)\n",
    "    i+=-1\n",
    "print(lista)"
   ]
  },
  {
   "attachments": {},
   "cell_type": "markdown",
   "metadata": {},
   "source": [
    "2.-¿Con un ciclo while sería posible recorrer la lista para imprimir sólo los números pares?\n"
   ]
  },
  {
   "cell_type": "code",
   "execution_count": 11,
   "metadata": {},
   "outputs": [
    {
     "name": "stdout",
     "output_type": "stream",
     "text": [
      "-2\n",
      "-4\n",
      "-6\n",
      "-8\n",
      "-10\n",
      "-12\n",
      "-14\n"
     ]
    },
    {
     "ename": "TypeError",
     "evalue": "iter(v, w): v must be callable",
     "output_type": "error",
     "traceback": [
      "\u001b[0;31m---------------------------------------------------------------------------\u001b[0m",
      "\u001b[0;31mTypeError\u001b[0m                                 Traceback (most recent call last)",
      "Cell \u001b[0;32mIn[11], line 6\u001b[0m\n\u001b[1;32m      4\u001b[0m         \u001b[39mprint\u001b[39m(lista[i])\n\u001b[1;32m      5\u001b[0m     i\u001b[39m+\u001b[39m\u001b[39m=\u001b[39m\u001b[39m1\u001b[39m\n\u001b[0;32m----> 6\u001b[0m iterador\u001b[39m=\u001b[39m\u001b[39miter\u001b[39;49m(lista,\u001b[39m2\u001b[39;49m)\n\u001b[1;32m      7\u001b[0m \u001b[39mwhile\u001b[39;00m(iterador):\n\u001b[1;32m      8\u001b[0m     pa\u001b[39m=\u001b[39m\u001b[39mnext\u001b[39m(iterador)\n",
      "\u001b[0;31mTypeError\u001b[0m: iter(v, w): v must be callable"
     ]
    }
   ],
   "source": [
    "i=0\n",
    "while(i<len(lista)):\n",
    "    if(lista[i]%2==0):\n",
    "        print(lista[i])\n",
    "    i+=1\n",
    "iterador=iter(lista)\n",
    "while(iterador):\n",
    "    pa=next(iterador)\n",
    "    if(pa%2==0):\n",
    "        print(pa)"
   ]
  },
  {
   "attachments": {},
   "cell_type": "markdown",
   "metadata": {},
   "source": [
    "3.-Resolver el punto anterior sin utilizar un ciclo while\n"
   ]
  },
  {
   "cell_type": "code",
   "execution_count": 22,
   "metadata": {},
   "outputs": [
    {
     "name": "stdout",
     "output_type": "stream",
     "text": [
      "[-2, -4, -6, -8, -10, -12, -14]\n"
     ]
    }
   ],
   "source": [
    "lista1=[i for i in lista if i%2==0]\n",
    "print(lista1)"
   ]
  },
  {
   "attachments": {},
   "cell_type": "markdown",
   "metadata": {},
   "source": [
    "4.-Utilizar el iterable para recorrer sólo los primeros 3 elementos\n"
   ]
  },
  {
   "cell_type": "code",
   "execution_count": 23,
   "metadata": {},
   "outputs": [
    {
     "name": "stdout",
     "output_type": "stream",
     "text": [
      "-1\n",
      "-2\n",
      "-3\n"
     ]
    }
   ],
   "source": [
    "iterador1=iter(lista)\n",
    "print(next(iterador1))\n",
    "print(next(iterador1))\n",
    "print(next(iterador1))"
   ]
  },
  {
   "attachments": {},
   "cell_type": "markdown",
   "metadata": {},
   "source": [
    "5.-Utilizar la función enumerate para obtener dentro del iterable, tambien el índice al que corresponde el elemento\n",
    "\n"
   ]
  },
  {
   "cell_type": "code",
   "execution_count": 24,
   "metadata": {},
   "outputs": [
    {
     "name": "stdout",
     "output_type": "stream",
     "text": [
      "0 a\n",
      "1 b\n",
      "2 c\n",
      "3 d\n"
     ]
    }
   ],
   "source": [
    "lista3=['a','b','c','d']\n",
    "for i,j in enumerate(lista3):\n",
    "    print(i,j)"
   ]
  },
  {
   "attachments": {},
   "cell_type": "markdown",
   "metadata": {},
   "source": [
    "6.-Dada la siguiente lista de números enteros entre 1 y 20, crear un ciclo donde se completen los valores faltantes: lista = [1,2,5,7,8,10,13,14,15,17,20]\n"
   ]
  },
  {
   "cell_type": "code",
   "execution_count": 27,
   "metadata": {},
   "outputs": [
    {
     "name": "stdout",
     "output_type": "stream",
     "text": [
      "[1, 2, 3, 4, 5, 6, 7, 8, 9, 10, 11, 12, 13, 14, 15, 16, 17, 18, 19, 20]\n"
     ]
    }
   ],
   "source": [
    "lista4 = [1,2,5,7,8,10,13,14,15,17,20]\n",
    "for i,j in enumerate(lista4):\n",
    "    if (i+1)!=j:\n",
    "        lista4.insert(i,i+1)\n",
    "print(lista4)"
   ]
  },
  {
   "attachments": {},
   "cell_type": "markdown",
   "metadata": {},
   "source": [
    "7.-La sucesión de Fibonacci es un listado de números que sigue la fórmula:\n",
    "n0 = 0\n",
    "n1 = 1\n",
    "ni = ni-1 + ni-2\n",
    "Crear una lista con los primeros treinta números de la sucesión."
   ]
  },
  {
   "cell_type": "code",
   "execution_count": 35,
   "metadata": {},
   "outputs": [
    {
     "name": "stdout",
     "output_type": "stream",
     "text": [
      "[0, 1, 1, 2, 3, 5, 8, 13, 21, 34, 55, 89, 144, 233, 377, 610, 987, 1597, 2584, 4181, 6765, 10946, 17711, 28657, 46368, 75025, 121393, 196418, 317811, 514229]\n"
     ]
    }
   ],
   "source": [
    "lista5=[0,1]\n",
    "for i in range(2,30):\n",
    "    num=lista5[i-2]+lista5[i-1]\n",
    "    lista5.append(num)\n",
    "print(lista5)"
   ]
  },
  {
   "attachments": {},
   "cell_type": "markdown",
   "metadata": {},
   "source": [
    "8.-Realizar la suma de todos elementos de la lista del punto anterior"
   ]
  },
  {
   "cell_type": "code",
   "execution_count": 37,
   "metadata": {},
   "outputs": [
    {
     "name": "stdout",
     "output_type": "stream",
     "text": [
      "832039\n"
     ]
    }
   ],
   "source": [
    "sum=0\n",
    "for i in range(len(lista5)-1):\n",
    "    sum+=lista5[i]\n",
    "print(sum)"
   ]
  },
  {
   "attachments": {},
   "cell_type": "markdown",
   "metadata": {},
   "source": [
    "9.-La proporción aurea se expresa con una proporción matemática que nace el número irracional Phi= 1,618… que los griegos llamaron número áureo. El cuál se puede aproximar con la sucesión de Fibonacci. Con la lista del ejercicio anterior, imprimir el cociente de los últimos 5 pares de dos números contiguos:\n",
    "Donde i es la cantidad total de elementos\n",
    "ni-1 / ni\n",
    "ni-2 / ni-1\n",
    "ni-3 / ni-2\n",
    "ni-4 / ni-3\n",
    "ni-5 / ni-4"
   ]
  },
  {
   "cell_type": "code",
   "execution_count": 39,
   "metadata": {},
   "outputs": [
    {
     "name": "stdout",
     "output_type": "stream",
     "text": [
      "1.6180339985218033\n",
      "1.6180339901755971\n",
      "1.618033988957902\n",
      "1.6180339887802426\n",
      "1.6180339887543225\n"
     ]
    }
   ],
   "source": [
    "for i in range(20,30,2):\n",
    "    phi=lista5[i+1]/lista5[i]\n",
    "    print(phi)"
   ]
  },
  {
   "attachments": {},
   "cell_type": "markdown",
   "metadata": {},
   "source": [
    "10.-A partir de la variable cadena ya dada, mostrar en qué posiciones aparece la letra \"n\"\n",
    "cadena = 'Hola Mundo. Esto es una practica del lenguaje de programación Python'"
   ]
  },
  {
   "cell_type": "code",
   "execution_count": null,
   "metadata": {},
   "outputs": [],
   "source": []
  },
  {
   "attachments": {},
   "cell_type": "markdown",
   "metadata": {},
   "source": [
    "11.-Crear un diccionario e imprimir sus claves utilizando un iterador"
   ]
  },
  {
   "cell_type": "code",
   "execution_count": null,
   "metadata": {},
   "outputs": [],
   "source": []
  },
  {
   "attachments": {},
   "cell_type": "markdown",
   "metadata": {},
   "source": [
    "12.-Convertir en una lista la variable \"cadena\" del punto 10 y luego recorrerla con un iterador\n",
    "\n"
   ]
  }
 ],
 "metadata": {
  "kernelspec": {
   "display_name": "Python 3",
   "language": "python",
   "name": "python3"
  },
  "language_info": {
   "codemirror_mode": {
    "name": "ipython",
    "version": 3
   },
   "file_extension": ".py",
   "mimetype": "text/x-python",
   "name": "python",
   "nbconvert_exporter": "python",
   "pygments_lexer": "ipython3",
   "version": "3.8.10"
  },
  "orig_nbformat": 4,
  "vscode": {
   "interpreter": {
    "hash": "31f2aee4e71d21fbe5cf8b01ff0e069b9275f58929596ceb00d14d90e3e16cd6"
   }
  }
 },
 "nbformat": 4,
 "nbformat_minor": 2
}
