{
 "cells": [
  {
   "attachments": {},
   "cell_type": "markdown",
   "metadata": {},
   "source": [
    "1.-Crear una función que reciba un número como parámetro y devuelva si True si es primo y False si no lo es"
   ]
  },
  {
   "cell_type": "code",
   "execution_count": 13,
   "metadata": {},
   "outputs": [
    {
     "name": "stdout",
     "output_type": "stream",
     "text": [
      "False\n"
     ]
    }
   ],
   "source": [
    "def es_primo(numero):\n",
    "    if(numero==0 or numero==1 or numero==2):\n",
    "        return False\n",
    "    else:\n",
    "        for i in range(2,numero):\n",
    "            if numero%i==0:\n",
    "                return False\n",
    "        return True\n",
    "\n",
    "                \n",
    "print(es_primo(2))"
   ]
  },
  {
   "attachments": {},
   "cell_type": "markdown",
   "metadata": {},
   "source": [
    "2.-Utilizando la función del punto 1, realizar otra función que reciba de parámetro una lista de números y devuelva sólo aquellos que son primos en otra lista"
   ]
  },
  {
   "cell_type": "code",
   "execution_count": 14,
   "metadata": {},
   "outputs": [
    {
     "name": "stdout",
     "output_type": "stream",
     "text": [
      "[3, 5]\n"
     ]
    }
   ],
   "source": [
    "def es_primo_lista(lista):\n",
    "    lista_primos=[]\n",
    "    if(0 or 1  or 2 in lista):\n",
    "        pass\n",
    "    for i in lista:\n",
    "        if(es_primo(i)):\n",
    "            lista_primos.append(i)\n",
    "    return lista_primos\n",
    "\n",
    "print(es_primo_lista([1,2,3,4,5]))"
   ]
  },
  {
   "attachments": {},
   "cell_type": "markdown",
   "metadata": {},
   "source": [
    "3.-Crear una función que al recibir una lista de números, devuelva el que más se repite y cuántas veces lo hace. Si hay más de un \"más repetido\", que devuelva cualquiera"
   ]
  },
  {
   "cell_type": "code",
   "execution_count": 21,
   "metadata": {},
   "outputs": [
    {
     "name": "stdout",
     "output_type": "stream",
     "text": [
      "1\n"
     ]
    }
   ],
   "source": [
    "def mas_repetido(lista):\n",
    "    index_masRe=0\n",
    "    temp=0\n",
    "    max_count=0\n",
    "    for index,valor in enumerate(lista):\n",
    "        temp=lista.count(valor)\n",
    "        if(temp>=max_count):\n",
    "            max_count=temp\n",
    "            index_masRe=index\n",
    "    return(lista[index_masRe])\n",
    "\n",
    "    \n",
    "print(mas_repetido([1,1,1,1,3,3,4,4,4]))"
   ]
  },
  {
   "attachments": {},
   "cell_type": "markdown",
   "metadata": {},
   "source": [
    "4.-A la función del punto 3, agregar un parámetro más, que permita elegir si se requiere el menor o el mayor de los mas repetidos."
   ]
  },
  {
   "cell_type": "code",
   "execution_count": 23,
   "metadata": {},
   "outputs": [
    {
     "name": "stdout",
     "output_type": "stream",
     "text": [
      "3\n"
     ]
    }
   ],
   "source": [
    "def mas_repetido(lista,menormax):\n",
    "    index_masRe=0\n",
    "    temp=0\n",
    "    max_count=len(lista)\n",
    "    for index,valor in enumerate(lista):\n",
    "        temp=lista.count(valor)\n",
    "        if(menormax=='mayor'):\n",
    "            if(temp>=max_count):\n",
    "                max_count=temp\n",
    "                index_masRe=index\n",
    "        else:\n",
    "            if(temp<=max_count):\n",
    "                max_count=temp\n",
    "                index_masRe=index\n",
    "\n",
    "    return(lista[index_masRe])\n",
    "\n",
    "    \n",
    "print(mas_repetido([1,1,1,1,3,3,4,4,4],'menos'))"
   ]
  },
  {
   "attachments": {},
   "cell_type": "markdown",
   "metadata": {},
   "source": [
    "5.-Crear una función que convierta entre grados Celsius, Farenheit y Kelvin\n",
    "Fórmula 1 : (°C × 9/5) + 32 = °F\n",
    "Fórmula 2 : °C + 273.15 = °K\n",
    "Debe recibir 3 parámetros: el valor, la medida de orígen y la medida de destino"
   ]
  },
  {
   "cell_type": "code",
   "execution_count": null,
   "metadata": {},
   "outputs": [],
   "source": []
  },
  {
   "attachments": {},
   "cell_type": "markdown",
   "metadata": {},
   "source": [
    "6.-Iterando una lista con los tres valores posibles de temperatura que recibe la función del punto 5, hacer un print para cada combinación de los mismos:"
   ]
  },
  {
   "attachments": {},
   "cell_type": "markdown",
   "metadata": {},
   "source": [
    "7.-Armar una función que devuelva el factorial de un número. Tener en cuenta que el usuario puede equivocarse y enviar de parámetro un número no entero o negativo"
   ]
  }
 ],
 "metadata": {
  "kernelspec": {
   "display_name": "Python 3",
   "language": "python",
   "name": "python3"
  },
  "language_info": {
   "codemirror_mode": {
    "name": "ipython",
    "version": 3
   },
   "file_extension": ".py",
   "mimetype": "text/x-python",
   "name": "python",
   "nbconvert_exporter": "python",
   "pygments_lexer": "ipython3",
   "version": "3.8.10"
  },
  "orig_nbformat": 4,
  "vscode": {
   "interpreter": {
    "hash": "31f2aee4e71d21fbe5cf8b01ff0e069b9275f58929596ceb00d14d90e3e16cd6"
   }
  }
 },
 "nbformat": 4,
 "nbformat_minor": 2
}
