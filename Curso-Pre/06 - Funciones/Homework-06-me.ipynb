{
 "cells": [
  {
   "attachments": {},
   "cell_type": "markdown",
   "metadata": {},
   "source": [
    "1.-Crear una función que reciba un número como parámetro y devuelva si True si es primo y False si no lo es"
   ]
  },
  {
   "cell_type": "code",
   "execution_count": 8,
   "metadata": {},
   "outputs": [
    {
     "name": "stdout",
     "output_type": "stream",
     "text": [
      "False\n"
     ]
    }
   ],
   "source": [
    "def es_primo(numero):\n",
    "    if(numero==0 or numero==1 or numero==2):\n",
    "        return False\n",
    "    else:\n",
    "        #for i in range(2,numero):\n",
    "        for i in range(2,int(numero/2)+1):\n",
    "        #podemos solo tomar la mitad del numero que se usara\n",
    "            if numero%i==0:\n",
    "                return False\n",
    "        return True\n",
    "\n",
    "                \n",
    "print(es_primo(2))"
   ]
  },
  {
   "attachments": {},
   "cell_type": "markdown",
   "metadata": {},
   "source": [
    "2.-Utilizando la función del punto 1, realizar otra función que reciba de parámetro una lista de números y devuelva sólo aquellos que son primos en otra lista"
   ]
  },
  {
   "cell_type": "code",
   "execution_count": 14,
   "metadata": {},
   "outputs": [
    {
     "name": "stdout",
     "output_type": "stream",
     "text": [
      "[3, 5]\n"
     ]
    }
   ],
   "source": [
    "def es_primo_lista(lista):\n",
    "    lista_primos=[]\n",
    "    if(0 or 1  or 2 in lista):\n",
    "        pass\n",
    "    for i in lista:\n",
    "        if(es_primo(i)):\n",
    "            lista_primos.append(i)\n",
    "    return lista_primos\n",
    "\n",
    "print(es_primo_lista([1,2,3,4,5]))"
   ]
  },
  {
   "attachments": {},
   "cell_type": "markdown",
   "metadata": {},
   "source": [
    "3.-Crear una función que al recibir una lista de números, devuelva el que más se repite y cuántas veces lo hace. Si hay más de un \"más repetido\", que devuelva cualquiera"
   ]
  },
  {
   "cell_type": "code",
   "execution_count": 10,
   "metadata": {},
   "outputs": [
    {
     "name": "stdout",
     "output_type": "stream",
     "text": [
      "El mas repetido es: 1 se repite 4\n",
      "1\n"
     ]
    }
   ],
   "source": [
    "def mas_repetido(lista):\n",
    "    index_masRe=0\n",
    "    mas_repe=0\n",
    "    temp=0\n",
    "    max_count=0\n",
    "    for index,valor in enumerate(lista):\n",
    "        temp=lista.count(valor)\n",
    "        if(temp>=max_count):\n",
    "            max_count=temp\n",
    "            index_masRe=index\n",
    "    print(\"El mas repetido es:\",lista[index_masRe],\"se repite\",max_count)\n",
    "    return(lista[index_masRe])\n",
    "\n",
    "    \n",
    "mas_repetido([1,1,1,1,3,3,4,4,4])"
   ]
  },
  {
   "attachments": {},
   "cell_type": "markdown",
   "metadata": {},
   "source": [
    "4.-A la función del punto 3, agregar un parámetro más, que permita elegir si se requiere el menor o el mayor de los mas repetidos."
   ]
  },
  {
   "cell_type": "code",
   "execution_count": 23,
   "metadata": {},
   "outputs": [
    {
     "name": "stdout",
     "output_type": "stream",
     "text": [
      "3\n"
     ]
    }
   ],
   "source": [
    "def mas_repetido(lista,menormax):\n",
    "    index_masRe=0\n",
    "    temp=0\n",
    "    max_count=len(lista)\n",
    "    for index,valor in enumerate(lista):\n",
    "        temp=lista.count(valor)\n",
    "        if(menormax=='mayor'):\n",
    "            if(temp>=max_count):\n",
    "                max_count=temp\n",
    "                index_masRe=index\n",
    "        else:\n",
    "            if(temp<=max_count):\n",
    "                max_count=temp\n",
    "                index_masRe=index\n",
    "\n",
    "    return(lista[index_masRe])\n",
    "\n",
    "    \n",
    "print(mas_repetido([1,1,1,1,3,3,4,4,4],'menos'))"
   ]
  },
  {
   "attachments": {},
   "cell_type": "markdown",
   "metadata": {},
   "source": [
    "5.-Crear una función que convierta entre grados Celsius, Farenheit y Kelvin\n",
    "Fórmula 1 : (°C × 9/5) + 32 = °F\n",
    "Fórmula 2 : °C + 273.15 = °K\n",
    "Debe recibir 3 parámetros: el valor, la medida de orígen y la medida de destino"
   ]
  },
  {
   "cell_type": "code",
   "execution_count": 12,
   "metadata": {},
   "outputs": [
    {
     "name": "stdout",
     "output_type": "stream",
     "text": [
      "87.8\n"
     ]
    }
   ],
   "source": [
    "def grados(valor,medida_orig,medida_des):\n",
    "    nuevo=0\n",
    "    if (medida_orig == 'C'):\n",
    "        if (medida_des == 'C'):\n",
    "            valor_destino = valor\n",
    "        elif (medida_des == 'F'):\n",
    "            valor_destino = (valor * 9 / 5) + 32\n",
    "        elif (medida_des == 'K'):\n",
    "            valor_destino = valor + 273.15\n",
    "        else:\n",
    "            print('Parámetro de Destino incorrecto')\n",
    "    elif (medida_orig == 'F'):\n",
    "        if (medida_des == 'C'):\n",
    "            valor_destino = (valor - 32) * 5 / 9\n",
    "        elif (medida_des == 'F'):\n",
    "            valor_destino = valor\n",
    "        elif (medida_des == 'K'):\n",
    "            valor_destino = ((valor - 32) * 5 / 9) + 273.15\n",
    "        else:\n",
    "            print('Parámetro de Destino incorrecto')\n",
    "    elif (medida_orig == 'K'):\n",
    "        if (medida_des == 'C'):\n",
    "            valor_destino = valor - 273.15\n",
    "        elif (medida_des == 'F'):\n",
    "            valor_destino = ((valor - 273.15) * 9 / 5) + 32\n",
    "        elif (medida_des == 'K'):\n",
    "            valor_destino = valor\n",
    "        else:\n",
    "            print('Parámetro de Destino incorrecto')\n",
    "    else:\n",
    "        print('Parámetro de medida_orig incorrecto')\n",
    "    return valor_destino\n",
    "    #elif\n",
    "\n",
    "print(grados(31,'C','F'))"
   ]
  },
  {
   "attachments": {},
   "cell_type": "markdown",
   "metadata": {},
   "source": [
    "6.-Iterando una lista con los tres valores posibles de temperatura que recibe la función del punto 5, hacer un print para cada combinación de los mismos:"
   ]
  },
  {
   "cell_type": "code",
   "execution_count": 13,
   "metadata": {},
   "outputs": [
    {
     "name": "stdout",
     "output_type": "stream",
     "text": [
      "1\n",
      "33.8\n",
      "-17.22222222222222\n",
      "1\n",
      "-272.15\n",
      "-457.87\n"
     ]
    }
   ],
   "source": [
    "lista=['C','F','K']\n",
    "for i in lista:\n",
    "    for j in range(len(lista)-1):\n",
    "        print(grados(1,i,lista[j]))"
   ]
  },
  {
   "attachments": {},
   "cell_type": "markdown",
   "metadata": {},
   "source": [
    "7.-Armar una función que devuelva el factorial de un número. Tener en cuenta que el usuario puede equivocarse y enviar de parámetro un número no entero o negativo"
   ]
  },
  {
   "cell_type": "code",
   "execution_count": 17,
   "metadata": {},
   "outputs": [
    {
     "name": "stdout",
     "output_type": "stream",
     "text": [
      "3628800\n"
     ]
    },
    {
     "data": {
      "text/plain": [
       "3628800"
      ]
     },
     "execution_count": 17,
     "metadata": {},
     "output_type": "execute_result"
    }
   ],
   "source": [
    "def factorial (numero):\n",
    "    fac=numero\n",
    "    if(type(numero)!=int):\n",
    "        print(\"debe ser un numero entero\")\n",
    "        return\n",
    "    if(numero<0):\n",
    "        print(\"debe ser un numero entero positivo\")\n",
    "        return\n",
    "    if(numero==0):\n",
    "        return 1\n",
    "    if(numero>0):\n",
    "        fac*=factorial(numero-1)\n",
    "    return fac\n",
    "\n",
    "print(factorial(10))\n",
    "#otra forma\n",
    "def factorial1(numero):\n",
    "    if(type(numero) != int):\n",
    "        return 'El numero debe ser un entero'\n",
    "    if(numero < 0):\n",
    "        return 'El numero debe ser pisitivo'\n",
    "    if (numero > 1):\n",
    "        numero*=factorial1(numero - 1)\n",
    "    return numero\n",
    "factorial1(10)"
   ]
  }
 ],
 "metadata": {
  "kernelspec": {
   "display_name": "Python 3",
   "language": "python",
   "name": "python3"
  },
  "language_info": {
   "codemirror_mode": {
    "name": "ipython",
    "version": 3
   },
   "file_extension": ".py",
   "mimetype": "text/x-python",
   "name": "python",
   "nbconvert_exporter": "python",
   "pygments_lexer": "ipython3",
   "version": "3.8.10"
  },
  "orig_nbformat": 4,
  "vscode": {
   "interpreter": {
    "hash": "31f2aee4e71d21fbe5cf8b01ff0e069b9275f58929596ceb00d14d90e3e16cd6"
   }
  }
 },
 "nbformat": 4,
 "nbformat_minor": 2
}
