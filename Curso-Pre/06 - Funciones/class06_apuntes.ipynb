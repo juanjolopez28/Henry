{
 "cells": [
  {
   "attachments": {},
   "cell_type": "markdown",
   "metadata": {},
   "source": [
    "FUNCIONES"
   ]
  },
  {
   "cell_type": "code",
   "execution_count": 1,
   "metadata": {},
   "outputs": [
    {
     "name": "stdout",
     "output_type": "stream",
     "text": [
      "2.0\n"
     ]
    }
   ],
   "source": [
    "def dividir(dividendo,divisor):\n",
    "    return(dividendo/divisor)\n",
    "\n",
    "print(dividir(4,2))"
   ]
  },
  {
   "cell_type": "code",
   "execution_count": 4,
   "metadata": {},
   "outputs": [
    {
     "name": "stdout",
     "output_type": "stream",
     "text": [
      "24\n"
     ]
    }
   ],
   "source": [
    "#recursividad\n",
    "def factorial (num):\n",
    "    if(num>1):\n",
    "        num=num*factorial(num-1)\n",
    "    return num\n",
    "print(factorial(4))"
   ]
  },
  {
   "cell_type": "code",
   "execution_count": 9,
   "metadata": {},
   "outputs": [
    {
     "name": "stdout",
     "output_type": "stream",
     "text": [
      "9793376\n",
      "9793088\n",
      "1\n",
      "10\n"
     ]
    }
   ],
   "source": [
    "#parametros\n",
    "a=10\n",
    "def para(b):\n",
    "    b=1\n",
    "    print(id(b))\n",
    "    return b\n",
    "print(id(a))\n",
    "print(para(a))\n",
    "print(a) "
   ]
  },
  {
   "cell_type": "code",
   "execution_count": 11,
   "metadata": {},
   "outputs": [
    {
     "name": "stdout",
     "output_type": "stream",
     "text": [
      "140548406082944\n",
      "140548406083072\n",
      "[1, 2, 3, 4]\n"
     ]
    }
   ],
   "source": [
    "#referencia, se debe tener en cuenta el tipo de dato que en el caso de python es por defecto\n",
    "a=[1,2,3,4]\n",
    "def fun1(b):\n",
    "    print(id(b))\n",
    "    b.append(5)\n",
    "print(id(a))\n",
    "fun1(a.copy()) # les decimos que no queremos hacerlo por referencia, crea una copia\n",
    "print(a)    "
   ]
  },
  {
   "cell_type": "code",
   "execution_count": 10,
   "metadata": {},
   "outputs": [
    {
     "name": "stdout",
     "output_type": "stream",
     "text": [
      "9\n"
     ]
    }
   ],
   "source": [
    "#Funciones lambda\n",
    "suma =lambda x,y:x+y\n",
    "print(suma(5,4))"
   ]
  }
 ],
 "metadata": {
  "kernelspec": {
   "display_name": "Python 3",
   "language": "python",
   "name": "python3"
  },
  "language_info": {
   "codemirror_mode": {
    "name": "ipython",
    "version": 3
   },
   "file_extension": ".py",
   "mimetype": "text/x-python",
   "name": "python",
   "nbconvert_exporter": "python",
   "pygments_lexer": "ipython3",
   "version": "3.8.10"
  },
  "orig_nbformat": 4,
  "vscode": {
   "interpreter": {
    "hash": "31f2aee4e71d21fbe5cf8b01ff0e069b9275f58929596ceb00d14d90e3e16cd6"
   }
  }
 },
 "nbformat": 4,
 "nbformat_minor": 2
}
