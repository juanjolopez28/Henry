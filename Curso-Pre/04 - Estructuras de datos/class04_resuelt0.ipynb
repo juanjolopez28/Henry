{
 "cells": [
  {
   "attachments": {},
   "cell_type": "markdown",
   "metadata": {},
   "source": [
    "LISTAS"
   ]
  },
  {
   "cell_type": "code",
   "execution_count": 8,
   "metadata": {},
   "outputs": [
    {
     "name": "stdout",
     "output_type": "stream",
     "text": [
      "[1, 2, 3, 4, 5]\n",
      "[10, 1]\n",
      "4\n",
      "5\n",
      "[10, 1, 2, 3, 4]\n"
     ]
    }
   ],
   "source": [
    "lista=[1,2,3,4]\n",
    "lista.append(5)\n",
    "print(lista)\n",
    "lista.insert(0,10)\n",
    "print(lista[0:2])\n",
    "print(lista.index(4))\n",
    "a=lista.pop()\n",
    "print(a)\n",
    "print(lista)\n",
    "lista.remove(3)"
   ]
  },
  {
   "cell_type": "code",
   "execution_count": 9,
   "metadata": {},
   "outputs": [
    {
     "data": {
      "text/plain": [
       "[10, 1, 2, 4, 1, 2, 3, 4]"
      ]
     },
     "execution_count": 9,
     "metadata": {},
     "output_type": "execute_result"
    }
   ],
   "source": [
    "lista.extend([1,2,3,4])\n",
    "lista"
   ]
  },
  {
   "cell_type": "code",
   "execution_count": 14,
   "metadata": {},
   "outputs": [
    {
     "name": "stdout",
     "output_type": "stream",
     "text": [
      "(1, 2, 3, 4, 5, 6, 7, 8, 9)\n",
      "azul verde rojo\n"
     ]
    }
   ],
   "source": [
    "a=tuple(range(1,10))\n",
    "print(a)\n",
    "colores_primarios=('azul','verde','rojo')\n",
    "x,y,z=colores_primarios\n",
    "#desempaquetar tuplas, asignar los valores a variables\n",
    "print(x,y,z)\n"
   ]
  },
  {
   "cell_type": "code",
   "execution_count": 17,
   "metadata": {},
   "outputs": [
    {
     "name": "stdout",
     "output_type": "stream",
     "text": [
      "['a', 'b', 'c']\n",
      "dict_keys(['num', 'letras'])\n",
      "dict_values([[1, 2, 3, 4], ['a', 'b', 'c']])\n"
     ]
    }
   ],
   "source": [
    "dic={ 'num':[1,2,3,4],\n",
    "'letras':['a','b','c']\n",
    "\n",
    "}\n",
    "\n",
    "print (dic['letras'])\n",
    "print(dic.keys())\n",
    "print(dic.values())"
   ]
  }
 ],
 "metadata": {
  "kernelspec": {
   "display_name": "Python 3",
   "language": "python",
   "name": "python3"
  },
  "language_info": {
   "codemirror_mode": {
    "name": "ipython",
    "version": 3
   },
   "file_extension": ".py",
   "mimetype": "text/x-python",
   "name": "python",
   "nbconvert_exporter": "python",
   "pygments_lexer": "ipython3",
   "version": "3.8.10"
  },
  "orig_nbformat": 4,
  "vscode": {
   "interpreter": {
    "hash": "31f2aee4e71d21fbe5cf8b01ff0e069b9275f58929596ceb00d14d90e3e16cd6"
   }
  }
 },
 "nbformat": 4,
 "nbformat_minor": 2
}
