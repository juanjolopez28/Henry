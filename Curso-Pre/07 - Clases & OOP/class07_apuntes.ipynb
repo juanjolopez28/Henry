{
 "cells": [
  {
   "cell_type": "code",
   "execution_count": 11,
   "metadata": {},
   "outputs": [
    {
     "name": "stdout",
     "output_type": "stream",
     "text": [
      "Hola soy Tigre de color Naranja y tengo 12\n",
      "Hola soy Tigre de color Naranja y tengo 13\n",
      "Tigre\n",
      "Ladrar\n"
     ]
    }
   ],
   "source": [
    "class Animal:\n",
    "    def __init__(self,especie, edad,color):\n",
    "        self.especie=especie\n",
    "        self.edad=edad\n",
    "        self.color=color\n",
    "    def mePresento(self):\n",
    "        print('Hola soy',self.especie,'de color',self.color,'y tengo',self.edad)\n",
    "    def cumplirAños(self):\n",
    "        self.edad+=1\n",
    "    def hablar(self):\n",
    "        #metodo vacio\n",
    "        pass\n",
    "\n",
    "class Perro(Animal):\n",
    "    def __init__(self,especie,edad,color,dueño):\n",
    "        super().__init__(especie,edad,color)\n",
    "        self.dueño=dueño   \n",
    "    def hablar(self):\n",
    "        print(\"Ladrar\")\n",
    "        #return super().hablar()\n",
    "\n",
    "class Gato(Animal):\n",
    "    def hablar(self):\n",
    "        print(\"Maullar\")\n",
    "\n",
    "\n",
    "\n",
    "a1=Animal('Tigre',12,'Naranja')\n",
    "a1.mePresento()\n",
    "a1.cumplirAños()\n",
    "a1.mePresento()\n",
    "print(a1.especie)\n",
    "\n",
    "a2=Perro('Perro',115,'Marron','Jose')\n",
    "a2.hablar()\n",
    "\n"
   ]
  }
 ],
 "metadata": {
  "kernelspec": {
   "display_name": "Python 3",
   "language": "python",
   "name": "python3"
  },
  "language_info": {
   "codemirror_mode": {
    "name": "ipython",
    "version": 3
   },
   "file_extension": ".py",
   "mimetype": "text/x-python",
   "name": "python",
   "nbconvert_exporter": "python",
   "pygments_lexer": "ipython3",
   "version": "3.8.10"
  },
  "orig_nbformat": 4
 },
 "nbformat": 4,
 "nbformat_minor": 2
}
