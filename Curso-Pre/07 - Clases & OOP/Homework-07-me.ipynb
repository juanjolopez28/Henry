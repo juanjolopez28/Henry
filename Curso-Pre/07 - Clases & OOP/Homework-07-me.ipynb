{
 "cells": [
  {
   "attachments": {},
   "cell_type": "markdown",
   "metadata": {},
   "source": [
    "1.-Crear la clase vehículo que contenga los atributos:\n",
    "Color\n",
    "Si es moto, auto, camioneta ó camión\n",
    "Cilindrada del motor"
   ]
  },
  {
   "cell_type": "code",
   "execution_count": null,
   "metadata": {},
   "outputs": [],
   "source": [
    "class vehiculo:\n",
    "    def __init__(self,color,tipo,motor):\n",
    "        self.color=color\n",
    "        self.tipo=tipo\n",
    "        self.motor=motor"
   ]
  },
  {
   "attachments": {},
   "cell_type": "markdown",
   "metadata": {},
   "source": [
    "2.-A la clase Vehiculo creada en el punto 1, agregar los siguientes métodos:\n",
    "Acelerar\n",
    "Frenar\n",
    "Doblar"
   ]
  },
  {
   "cell_type": "code",
   "execution_count": 6,
   "metadata": {},
   "outputs": [],
   "source": [
    "class vehiculo:\n",
    "    def __init__(self,color,tipo,motor):\n",
    "        self.color=color\n",
    "        self.tipo=tipo\n",
    "        self.motor=motor\n",
    "    def acelerar(self):\n",
    "        print(\"Acelera\")\n",
    "    def frenar(self):\n",
    "        print(\"Frena\")\n",
    "    def doblar(self):\n",
    "        print(\"Doblar\")\n"
   ]
  },
  {
   "attachments": {},
   "cell_type": "markdown",
   "metadata": {},
   "source": [
    "3.-Instanciar 3 objetos de la clase vehículo y ejecutar sus métodos, probar luego el resultado\n"
   ]
  },
  {
   "cell_type": "code",
   "execution_count": 7,
   "metadata": {},
   "outputs": [
    {
     "name": "stdout",
     "output_type": "stream",
     "text": [
      "Acelera\n"
     ]
    }
   ],
   "source": [
    "v1=vehiculo('rojo','moto','caballo')\n",
    "v1.acelerar()"
   ]
  },
  {
   "attachments": {},
   "cell_type": "markdown",
   "metadata": {},
   "source": [
    "4.-Agregar a la clase Vehiculo, un método que muestre su estado, es decir, a que velocidad se encuentra y su dirección. Y otro método que muestre color, tipo y cilindrada"
   ]
  },
  {
   "cell_type": "code",
   "execution_count": 4,
   "metadata": {},
   "outputs": [
    {
     "name": "stdout",
     "output_type": "stream",
     "text": [
      "negro carro 200km\n",
      "negro\n"
     ]
    }
   ],
   "source": [
    "class vehiculo:\n",
    "    def __init__(self,color,tipo,motor):\n",
    "        #para definir un atributo privado ponemos__\n",
    "        self.__color=color\n",
    "        self.tipo=tipo\n",
    "        self.motor=motor\n",
    "    def get_color(self):\n",
    "        return self.__color\n",
    "    def acelerar(self):\n",
    "        print(\"Acelera\")\n",
    "    def frenar(self):\n",
    "        print(\"Frena\")\n",
    "    def doblar(self):\n",
    "        print(\"Doblar\")\n",
    "    def estado(self):\n",
    "        print(\"Tu velocidad es 100km y tu direccion es\")\n",
    "    def carac(self):\n",
    "        print(self.__color,self.tipo,self.motor)\n",
    "\n",
    "v2=vehiculo('negro','carro','200km')\n",
    "v2.carac()\n",
    "print(v2.get_color())"
   ]
  },
  {
   "attachments": {},
   "cell_type": "markdown",
   "metadata": {},
   "source": [
    "5.-Crear una clase que permita utilizar las funciones creadas en la práctica del módulo 6\n",
    "Verificar Primo\n",
    "Valor modal\n",
    "Conversión grados\n",
    "Factorial"
   ]
  },
  {
   "cell_type": "code",
   "execution_count": 5,
   "metadata": {},
   "outputs": [
    {
     "name": "stdout",
     "output_type": "stream",
     "text": [
      "True\n",
      "24\n",
      "El mas repetido es: 5 se repite 3\n",
      "5\n"
     ]
    }
   ],
   "source": [
    "class funciones:\n",
    "    def es_primo(self,numero):\n",
    "        #siempre se debe poner un constructor\n",
    "        def __init__(self) ->None:\n",
    "            pass\n",
    "\n",
    "        if(numero==0 or numero==1 or numero==2):\n",
    "            return False\n",
    "        else:\n",
    "            #for i in range(2,numero):\n",
    "            for i in range(2,int(numero/2)+1):\n",
    "            #podemos solo tomar la mitad del numero que se usara\n",
    "                if numero%i==0:\n",
    "                    return False\n",
    "            return True\n",
    "    def factorial1(self,numero):\n",
    "        if(type(numero) != int):\n",
    "            return 'El numero debe ser un entero'\n",
    "        if(numero < 0):\n",
    "            return 'El numero debe ser pisitivo'\n",
    "        if (numero > 1):\n",
    "            numero*=self.factorial1(numero - 1)\n",
    "        return numero\n",
    "    \n",
    "    def mas_repetido(self, lista):\n",
    "        index_masRe=0\n",
    "        mas_repe=0\n",
    "        temp=0\n",
    "        max_count=0\n",
    "        for index,valor in enumerate(lista):\n",
    "            temp=lista.count(valor)\n",
    "            if(temp>=max_count):\n",
    "                max_count=temp\n",
    "                index_masRe=index\n",
    "        print(\"El mas repetido es:\",lista[index_masRe],\"se repite\",max_count)\n",
    "        return(lista[index_masRe])\n",
    "\n",
    "\n",
    "f1=funciones()\n",
    "print(f1.es_primo(3))\n",
    "print(f1.factorial1(4))\n",
    "print(f1.mas_repetido([1,2,3,4,5,5,5]))\n",
    "\n"
   ]
  },
  {
   "attachments": {},
   "cell_type": "markdown",
   "metadata": {},
   "source": [
    "6.-Probar las funciones incorporadas en la clase del punto 5\n"
   ]
  },
  {
   "cell_type": "code",
   "execution_count": null,
   "metadata": {},
   "outputs": [],
   "source": [
    "class funciones:\n",
    "    def es_primo(self,numero):\n",
    "        if(numero==0 or numero==1 or numero==2):\n",
    "            return False\n",
    "        else:\n",
    "            #for i in range(2,numero):\n",
    "            for i in range(2,int(numero/2)+1):\n",
    "            #podemos solo tomar la mitad del numero que se usara\n",
    "                if numero%i==0:\n",
    "                    return False\n",
    "            return True\n",
    "    def factorial1(self,numero):\n",
    "        if(type(numero) != int):\n",
    "            return 'El numero debe ser un entero'\n",
    "        if(numero < 0):\n",
    "            return 'El numero debe ser pisitivo'\n",
    "        if (numero > 1):\n",
    "            numero*=self.factorial1(numero - 1)\n",
    "        return numero\n",
    "    \n",
    "    def mas_repetido(self, lista):\n",
    "        index_masRe=0\n",
    "        mas_repe=0\n",
    "        temp=0\n",
    "        max_count=0\n",
    "        for index,valor in enumerate(lista):\n",
    "            temp=lista.count(valor)\n",
    "            if(temp>=max_count):\n",
    "                max_count=temp\n",
    "                index_masRe=index\n",
    "        print(\"El mas repetido es:\",lista[index_masRe],\"se repite\",max_count)\n",
    "        return(lista[index_masRe])\n",
    "\n",
    "\n",
    "f1=funciones()\n",
    "print(f1.es_primo(3))\n",
    "print(f1.factorial1(4))\n",
    "print(f1.mas_repetido([1,2,3,4,5,5,5]))"
   ]
  },
  {
   "attachments": {},
   "cell_type": "markdown",
   "metadata": {},
   "source": [
    "7.-Es necesario que la clase creada en el punto 5 contenga una lista, sobre la cual se aplquen las funciones incorporadas"
   ]
  },
  {
   "cell_type": "code",
   "execution_count": 7,
   "metadata": {},
   "outputs": [
    {
     "name": "stdout",
     "output_type": "stream",
     "text": [
      "No es primo\n",
      "No es primo\n",
      "Es primo\n",
      "No es primo\n",
      "Es primo\n"
     ]
    }
   ],
   "source": [
    "class funciones:\n",
    "    def __init__(self,lista):\n",
    "        self.lista=lista\n",
    "    def __es_primo(self,numero):\n",
    "        if(numero==0 or numero==1 or numero==2):\n",
    "            return False\n",
    "        else:\n",
    "            #for i in range(2,numero):\n",
    "            for i in range(2,int(numero/2)+1):\n",
    "            #podemos solo tomar la mitad del numero que se usara\n",
    "                if numero%i==0:\n",
    "                    return False\n",
    "            return True\n",
    "    def es_primo(self):\n",
    "        for i in self.lista:\n",
    "            if self.__es_primo(i):\n",
    "                print(\"Es primo\")\n",
    "            else:\n",
    "                print(\"No es primo\")\n",
    "    def factorial1(self,numero):\n",
    "        if(type(numero) != int):\n",
    "            return 'El numero debe ser un entero'\n",
    "        if(numero < 0):\n",
    "            return 'El numero debe ser pisitivo'\n",
    "        if (numero > 1):\n",
    "            numero*=self.factorial1(numero - 1)\n",
    "        return numero\n",
    "    \n",
    "    def mas_repetido(self, lista):\n",
    "        index_masRe=0\n",
    "        mas_repe=0\n",
    "        temp=0\n",
    "        max_count=0\n",
    "        for index,valor in enumerate(lista):\n",
    "            temp=lista.count(valor)\n",
    "            if(temp>=max_count):\n",
    "                max_count=temp\n",
    "                index_masRe=index\n",
    "        print(\"El mas repetido es:\",lista[index_masRe],\"se repite\",max_count)\n",
    "        return(lista[index_masRe])\n",
    "\n",
    "\n",
    "f1=funciones([1,2,3,4,5])\n",
    "f1.es_primo()"
   ]
  },
  {
   "attachments": {},
   "cell_type": "markdown",
   "metadata": {},
   "source": [
    "8.-Crear un archivo .py aparte y ubicar allí la clase generada en el punto anterior. Luego realizar la importación del módulo y probar alguna de sus funciones"
   ]
  },
  {
   "cell_type": "code",
   "execution_count": null,
   "metadata": {},
   "outputs": [],
   "source": [
    "#resuelto con el archivo func.py y ejecucion.py"
   ]
  },
  {
   "cell_type": "code",
   "execution_count": 18,
   "metadata": {},
   "outputs": [
    {
     "name": "stdout",
     "output_type": "stream",
     "text": [
      "['/home/juanjo/Henry/Curso-Pre/07 - Clases & OOP', '/usr/lib/python38.zip', '/usr/lib/python3.8', '/usr/lib/python3.8/lib-dynload', '', '/home/juanjo/.local/lib/python3.8/site-packages', '/usr/local/lib/python3.8/dist-packages', '/usr/lib/python3/dist-packages']\n",
      "['In', 'Out', '_', '_13', '_14', '_15', '__', '___', '__builtin__', '__builtins__', '__doc__', '__loader__', '__name__', '__package__', '__spec__', '__vsc_ipynb_file__', '_dh', '_i', '_i1', '_i10', '_i11', '_i12', '_i13', '_i14', '_i15', '_i16', '_i17', '_i18', '_i2', '_i3', '_i4', '_i5', '_i6', '_i7', '_i8', '_i9', '_ih', '_ii', '_iii', '_oh', 'exit', 'f1', 'funciones', 'get_ipython', 'open', 'quit', 'sys', 'v1', 'v2', 'vehiculo']\n"
     ]
    }
   ],
   "source": [
    "import sys\n",
    "\n",
    "print(sys.path)\n",
    "print(dir())"
   ]
  }
 ],
 "metadata": {
  "kernelspec": {
   "display_name": "Python 3",
   "language": "python",
   "name": "python3"
  },
  "language_info": {
   "codemirror_mode": {
    "name": "ipython",
    "version": 3
   },
   "file_extension": ".py",
   "mimetype": "text/x-python",
   "name": "python",
   "nbconvert_exporter": "python",
   "pygments_lexer": "ipython3",
   "version": "3.8.10"
  },
  "orig_nbformat": 4
 },
 "nbformat": 4,
 "nbformat_minor": 2
}
