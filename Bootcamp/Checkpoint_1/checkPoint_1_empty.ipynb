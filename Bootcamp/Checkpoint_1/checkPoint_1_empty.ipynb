{
 "cells": [
  {
   "cell_type": "code",
   "execution_count": null,
   "metadata": {},
   "outputs": [],
   "source": [
    "# Importante: No modificar ni el nombre ni los argumetos que reciben las funciones, sólo deben escribir\n",
    "# código dentro de las funciones ya definidas.\n",
    "\n",
    "# Recordar utilizar la ruta relativa, no la absoluta para ingestar los datos desde los CSV.\n",
    "# EJ: 'datasets/xxxxxxxxxx.csv'"
   ]
  },
  {
   "cell_type": "code",
   "execution_count": null,
   "metadata": {},
   "outputs": [],
   "source": [
    "\n",
    "from xml.dom.minidom import Entity\n",
    "import pandas as pd\n",
    "import numpy as np\n",
    "\n"
   ]
  },
  {
   "cell_type": "code",
   "execution_count": 91,
   "metadata": {},
   "outputs": [
    {
     "data": {
      "text/plain": [
       "(55, 55)"
      ]
     },
     "execution_count": 91,
     "metadata": {},
     "output_type": "execute_result"
    }
   ],
   "source": [
    "\n",
    "def Ret_Pregunta01():\n",
    "    ''' Debes utilizar Pandas para ingestar en un objeto Dataframe el contenido del archivo provisto\n",
    "    \"Fuentes_Consumo_Energia.csv\".\n",
    "    Esta función debe informar la cantidad de registros cuya entidad sean Colombia o México retornando ese valor en un dato de tipo tupla (catidad de registros Colombia, catidad de registros México).\n",
    "    Pista: averiguar la funcion Shape '''\n",
    "    #Tu código aca:\n",
    "    \n",
    "\n",
    "Ret_Pregunta01()  "
   ]
  },
  {
   "cell_type": "code",
   "execution_count": null,
   "metadata": {},
   "outputs": [],
   "source": [
    "\n",
    "def Ret_Pregunta02():\n",
    "    ''' Debes utilizar Pandas para ingestar en un objeto Dataframe el contenido del archivo provisto\n",
    "    \"Fuentes_Consumo_Energia.csv\".\n",
    "    Esta función debe eliminar las columnas 'Code' y 'Entity' y luego informar la cantidad de columnas\n",
    "    retornando ese valor en un dato de tipo entero. '''\n",
    "    #Tu código aca:\n",
    "  \n",
    "Ret_Pregunta02()"
   ]
  },
  {
   "cell_type": "code",
   "execution_count": 90,
   "metadata": {},
   "outputs": [
    {
     "data": {
      "text/plain": [
       "5190"
      ]
     },
     "execution_count": 90,
     "metadata": {},
     "output_type": "execute_result"
    }
   ],
   "source": [
    "\n",
    "def Ret_Pregunta03():\n",
    "    ''' Debes utilizar Pandas para ingestar en un objeto Dataframe el contenido del archivo provisto\n",
    "    \"Fuentes_Consumo_Energia.csv\".\n",
    "    Esta función debe informar la cantidad de registros de la columna Year sin tener en cuenta aquellos con valores faltantes\n",
    "    retornando ese valor en un dato de tipo entero. '''\n",
    "    #Tu código aca:\n",
    "    \n",
    "   \n",
    "Ret_Pregunta03()   \n",
    "    \n",
    "    "
   ]
  },
  {
   "cell_type": "code",
   "execution_count": null,
   "metadata": {},
   "outputs": [],
   "source": [
    "\n",
    "def Ret_Pregunta04():\n",
    "    ''' Debes utilizar Pandas para ingestar en un objeto Dataframe el contenido del archivo provisto\n",
    "    \"Fuentes_Consumo_Energia.csv\".\n",
    "    El ExaJulio es una unidad diferentes al TWh, es decir, no tiene sentido sumarlos o\n",
    "    buscar proporciones entre ellos, la fórmula de conversión es:\n",
    "    277.778 Teravatios/Hora (TWh) = 1 Exajulio\n",
    "    Los campos terminados en \"_EJ\" corresponden a mediciones en Exajulios,\n",
    "    y los terminados en \"_TWh\" corresponden a Teravatios/Hora.\n",
    "    La consigna es crear un nuevo campo, que se denomine \"Consumo_Total\"\n",
    "    y que guarde la sumatoria de todos los consumos expresados en Teravatios/Hora\n",
    "    (convirtiendo a esta medida los que están en Exajulios)\n",
    "    Esta función debe informar el consumo total para la entidad 'World' y año '2019',\n",
    "    redondeado a 2 decimales, retornando ese valor en un dato de tipo float. '''\n",
    "    \n",
    "    #Tu código aca:\n",
    "    \n",
    "\n",
    "Ret_Pregunta04() \n",
    "    \n",
    "    "
   ]
  },
  {
   "cell_type": "code",
   "execution_count": null,
   "metadata": {},
   "outputs": [],
   "source": [
    "def Ret_Pregunta05():\n",
    "    ''' Debes utilizar Pandas para ingestar en un objeto Dataframe el contenido del archivo provisto\n",
    "    \"Fuentes_Consumo_Energia.csv\".\n",
    "    Esta función debe informar el año de mayor generación de energía hídrica (Hydro_Generation_TWh)\n",
    "    para la entidad 'Europe' retornando ese valor en un dato de tipo entero. '''\n",
    "    #Tu código aca:\n",
    "Ret_Pregunta05() "
   ]
  },
  {
   "cell_type": "code",
   "execution_count": null,
   "metadata": {},
   "outputs": [],
   "source": [
    "\n",
    "def Ret_Pregunta06(m1, m2, m3):\n",
    "    ''' Esta función recibe tres array de Numpy de 2 dimensiones cada uno, y devuelve el valor booleano\n",
    "    True si es posible realizar una multiplicación entre las tres matrices (n1 x n2 x n3),\n",
    "    y el valor booleano False si no lo es\n",
    "    Ej:\n",
    "        n1 = np.array([[0,0,0],[1,1,1],[2,2,2]])\n",
    "        n2 = np.array([[3,3],[4,4],[5,5]])\n",
    "        n3 = np.array([1,1],[2,2])\n",
    "        print(Ret_Pregunta06(n1,n2,n3))\n",
    "            True            -> Valor devuelto por la función en este ejemplo\n",
    "        print(Ret_Pregunta06(n2,n1,n3))\n",
    "            False            -> Valor devuelto por la función en este ejemplo '''\n",
    "    #Tu código aca:"
   ]
  },
  {
   "cell_type": "code",
   "execution_count": null,
   "metadata": {},
   "outputs": [],
   "source": [
    "\n",
    "def Ret_Pregunta07():\n",
    "    ''' Debes utilizar Pandas para ingestar en un objeto Dataframe el contenido del archivo provisto \n",
    "    \"GGAL - Cotizaciones historicas.csv\". Este csv contiene información de cotización de la \n",
    "    acción del Banco Galcia SA. Esta función debe tomar la columna máximo y \n",
    "    devolver la suma de los valores de esta, con 4 decimales después del punto, redondeado. '''\n",
    "    #Tu código aca:"
   ]
  },
  {
   "cell_type": "code",
   "execution_count": null,
   "metadata": {},
   "outputs": [],
   "source": [
    "def Ret_Pregunta08():\n",
    "    ''' Debes utilizar Pandas para ingestar en un objeto Dataframe el contenido del archivo provisto\n",
    "    \"Fuentes_Consumo_Energia.csv\".\n",
    "    Esta función debe informar la cantidad de entidades diferentes que están presentes en el dataset\n",
    "    retornando ese valor en un dato de tipo entero. '''\n",
    "    #Tu código aca:"
   ]
  },
  {
   "cell_type": "code",
   "execution_count": null,
   "metadata": {},
   "outputs": [],
   "source": [
    "\n",
    "def Ret_Pregunta09():\n",
    "    ''' Debes utilizar Pandas para ingestar en un objeto Dataframe el contenido del archivo provisto\n",
    "    \"datasets/Tabla1_ejercicio.csv\" y \"datasets/Tabla2_ejercicio.csv\".\n",
    "    Esta función debe retornar: score_promedio_femenino y score_promedio_masculino en formato tupla, teniendo en cuenta que no debe haber valores repetidos. '''\n",
    "    #Tu código aca:"
   ]
  },
  {
   "cell_type": "code",
   "execution_count": null,
   "metadata": {},
   "outputs": [],
   "source": [
    "def Ret_Pregunta10(lista):\n",
    "    ''' Esta función recibe como parámetro un objeto de la clase Lista() definida en el archivo Lista.py.\n",
    "    Debe recorrer la lista y retornan la cantidad de nodos que posee. Utilizar el método de la clase\n",
    "    Lista llamado getCabecera()\n",
    "    Ejemplo:\n",
    "        lis = Lista()\n",
    "        lista.agregarElemento(1)\n",
    "        lista.agregarElemento(2)\n",
    "        lista.agregarElemento(3)\n",
    "        print(Ret_Pregunta10(lista))\n",
    "            3    -> Debe ser el valor devuelto por la función Ret_Pregunta10() en este ejemplo '''\n",
    "    #Tu código aca:"
   ]
  },
  {
   "cell_type": "code",
   "execution_count": null,
   "metadata": {},
   "outputs": [],
   "source": []
  }
 ],
 "metadata": {
  "kernelspec": {
   "display_name": "Python 3",
   "language": "python",
   "name": "python3"
  },
  "language_info": {
   "codemirror_mode": {
    "name": "ipython",
    "version": 3
   },
   "file_extension": ".py",
   "mimetype": "text/x-python",
   "name": "python",
   "nbconvert_exporter": "python",
   "pygments_lexer": "ipython3",
   "version": "3.8.10"
  },
  "orig_nbformat": 4
 },
 "nbformat": 4,
 "nbformat_minor": 2
}
