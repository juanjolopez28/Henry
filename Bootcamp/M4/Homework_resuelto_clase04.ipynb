{
 "cells": [
  {
   "attachments": {},
   "cell_type": "markdown",
   "metadata": {},
   "source": [
    "A partir del CSV hospitales2.csv, generar un archivo CSV de salida, que contenga los siguientes campos en este orden:\n",
    "latitude\n",
    "longitude\n",
    "name\n",
    "label\n",
    "Con los correspondientes datos extraídos del CSV original, el campo name tiene que corresponder con la dirección del hospital, y el campo label con el nombre del hospital."
   ]
  },
  {
   "attachments": {},
   "cell_type": "markdown",
   "metadata": {},
   "source": [
    "Resolución con el módulo nativo csv"
   ]
  },
  {
   "cell_type": "code",
   "execution_count": 1,
   "metadata": {},
   "outputs": [],
   "source": [
    "import csv\n",
    "archivo = open(r'C:\\Users\\gonza\\Documents\\Trabajo\\Henry\\Data Science\\DS-M1\\Clase 04\\hospitales2.csv', encoding='utf-8')\n",
    "tabla = csv.reader(archivo, delimiter=',')\n",
    "with open('salida.csv', 'w', encoding='utf-8', newline='') as salida:\n",
    "    salida_writer = csv.writer(salida, delimiter=';')\n",
    "    next(tabla)\n",
    "    salida_writer.writerow(['latitude', 'longitude', 'name', 'label'])\n",
    "    for linea in tabla:\n",
    "        coordenadas = linea[0][7:-1].split()\n",
    "        #print(coordenadas)\n",
    "        salida_writer.writerow([coordenadas[1], coordenadas[0], linea[8], linea[3]])"
   ]
  },
  {
   "cell_type": "code",
   "execution_count": 4,
   "metadata": {},
   "outputs": [],
   "source": [
    "#Versión alternativa\n",
    "import csv\n",
    "with open('salida.csv', 'w', encoding='utf-8', newline='') as salida, open(r'C:\\Users\\gonza\\Documents\\Trabajo\\Henry\\Data Science\\DS-M1\\Clase 04\\hospitales2.csv', encoding='utf-8') as archivo:\n",
    "    tabla = csv.reader(archivo, delimiter=',')\n",
    "    salida_writer = csv.writer(salida, delimiter=';')\n",
    "    next(tabla)\n",
    "    salida_writer.writerow(['latitude', 'longitude', 'name', 'label'])\n",
    "    for linea in tabla:\n",
    "        coordenadas = linea[0][7:-1].split()\n",
    "        #print(coordenadas)\n",
    "        salida_writer.writerow([coordenadas[1], coordenadas[0], linea[8], linea[3]])"
   ]
  },
  {
   "attachments": {},
   "cell_type": "markdown",
   "metadata": {},
   "source": [
    "Resolución con pandas"
   ]
  },
  {
   "cell_type": "code",
   "execution_count": 24,
   "metadata": {},
   "outputs": [],
   "source": [
    "import pandas as pd\n",
    "df = pd.read_csv(r'C:\\Users\\gonza\\Documents\\Trabajo\\Henry\\Data Science\\DS-M1\\Clase 04\\hospitales2.csv', encoding='utf-8')\n",
    "coordenadas = [coord.split() for coord in df['WKT']]\n",
    "longitud = [float(elemento[1].strip('(')) for elemento in coordenadas]\n",
    "latitud = [float(elemento[2].strip(')')) for elemento in coordenadas]\n",
    "datos = dict(latitude=latitud, longitude=longitud, name=df['DOM_GEO'], label=df['NOM_MAP'])\n",
    "pd.DataFrame(datos).to_csv('hospitales_salida.csv', index=False, sep=';')"
   ]
  },
  {
   "cell_type": "code",
   "execution_count": null,
   "metadata": {},
   "outputs": [],
   "source": [
    "#Bonus track de programación\n",
    "#Clasico\n",
    "numeros = [3,5,7,9]\n",
    "cuadrados = []\n",
    "for numero in numeros:\n",
    "    cuadrados.append(numero ** 2)\n",
    "print(cuadrados)\n",
    "#map\n",
    "cuadrados = list(map(lambda x: x**2, numeros))\n",
    "print(cuadrados)\n",
    "#Compresión de listas\n",
    "cuadrados = [numero ** 2 for numero in numeros if numero > 5]\n",
    "print(cuadrados)"
   ]
  }
 ],
 "metadata": {
  "kernelspec": {
   "display_name": "Python 3",
   "language": "python",
   "name": "python3"
  },
  "language_info": {
   "codemirror_mode": {
    "name": "ipython",
    "version": 3
   },
   "file_extension": ".py",
   "mimetype": "text/x-python",
   "name": "python",
   "nbconvert_exporter": "python",
   "pygments_lexer": "ipython3",
   "version": "3.10.8"
  },
  "orig_nbformat": 4
 },
 "nbformat": 4,
 "nbformat_minor": 2
}
