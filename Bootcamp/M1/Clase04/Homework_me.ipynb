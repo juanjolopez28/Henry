{
 "cells": [
  {
   "attachments": {},
   "cell_type": "markdown",
   "metadata": {},
   "source": [
    "A partir del CSV hospitales2.csv, generar un archivo CSV de salida, que contenga los siguientes campos en este orden:\n",
    "latitude\n",
    "longitude\n",
    "name\n",
    "label\n",
    "Con los correspondientes datos extraídos del CSV original, el campo name tiene que corresponder con la dirección del hospital, y el campo label con el nombre del hospital."
   ]
  },
  {
   "cell_type": "code",
   "execution_count": 2,
   "metadata": {},
   "outputs": [
    {
     "name": "stdout",
     "output_type": "stream",
     "text": [
      "['juan', 'gg']\n"
     ]
    }
   ],
   "source": [
    "a=\"juan gg \"\n",
    "print(a.strip())"
   ]
  },
  {
   "cell_type": "code",
   "execution_count": 24,
   "metadata": {},
   "outputs": [
    {
     "name": "stdout",
     "output_type": "stream",
     "text": [
      "RangeIndex(start=0, stop=36, step=1)\n"
     ]
    }
   ],
   "source": [
    "import pandas as pd\n",
    "df = pd.read_csv('hospitales2.csv', encoding='utf-8')\n",
    "print(df.index)\n",
    "lista= [ coor.split() for coor in df['WKT']]\n",
    "latitud=[ elemento[1].strip('(') for elemento in lista]\n",
    "longitud=[elemento[2].strip(')') for elemento in lista]\n",
    "datos = dict(latitude=latitud, longitude=longitud, name=df['DOM_GEO'], label=df['NOM_MAP'])\n",
    "pd.DataFrame(datos).to_csv('hospitales_salida.csv', index=False, sep=';')"
   ]
  }
 ],
 "metadata": {
  "kernelspec": {
   "display_name": "Python 3",
   "language": "python",
   "name": "python3"
  },
  "language_info": {
   "codemirror_mode": {
    "name": "ipython",
    "version": 3
   },
   "file_extension": ".py",
   "mimetype": "text/x-python",
   "name": "python",
   "nbconvert_exporter": "python",
   "pygments_lexer": "ipython3",
   "version": "3.8.10"
  },
  "orig_nbformat": 4
 },
 "nbformat": 4,
 "nbformat_minor": 2
}
