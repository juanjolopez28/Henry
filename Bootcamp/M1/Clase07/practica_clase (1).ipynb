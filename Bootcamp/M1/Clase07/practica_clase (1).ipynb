{
 "cells": [
  {
   "attachments": {},
   "cell_type": "markdown",
   "metadata": {},
   "source": [
    "Algoritmos I"
   ]
  },
  {
   "cell_type": "code",
   "execution_count": null,
   "metadata": {},
   "outputs": [],
   "source": [
    "numeros = list(range(1,17))\n",
    "numeros"
   ]
  },
  {
   "attachments": {},
   "cell_type": "markdown",
   "metadata": {},
   "source": [
    "Ejemplo de fechas a normalizar\n",
    "2023-05-15\n",
    "15/05/2023\n",
    "15-02-23\n",
    "15 de Jul 2023"
   ]
  },
  {
   "cell_type": "code",
   "execution_count": null,
   "metadata": {},
   "outputs": [],
   "source": [
    "from random import sample\n",
    "azar = sample(range(1,21), 20)\n",
    "azar"
   ]
  },
  {
   "cell_type": "code",
   "execution_count": null,
   "metadata": {},
   "outputs": [],
   "source": [
    "#O(N)\n",
    "maximo = azar[0]\n",
    "for num in azar:\n",
    "    if num > maximo: maximo = num\n",
    "print(maximo)"
   ]
  },
  {
   "cell_type": "code",
   "execution_count": null,
   "metadata": {},
   "outputs": [],
   "source": [
    "#O(N + N) = O(2N)\n",
    "maximo = azar[0]\n",
    "for num in azar:\n",
    "    if num > maximo: maximo = num\n",
    "print(maximo)\n",
    "\n",
    "minimo = azar[0]\n",
    "for num in azar:\n",
    "    if num < minimo: minimo = num\n",
    "print(minimo)"
   ]
  },
  {
   "cell_type": "code",
   "execution_count": null,
   "metadata": {},
   "outputs": [],
   "source": [
    "#O(N)\n",
    "maximo = azar[0]\n",
    "minimo = azar[0]\n",
    "for num in azar:\n",
    "    if num > maximo: maximo = num\n",
    "    if num < minimo: minimo = num\n",
    "print(minimo)\n",
    "print(maximo)"
   ]
  },
  {
   "cell_type": "code",
   "execution_count": null,
   "metadata": {},
   "outputs": [],
   "source": [
    "#O(1)\n",
    "a = 5\n",
    "#O(N**2)\n",
    "notas = dict(Juan=[5,3,9], Estela=[8,7,9], Roberto=[6,2,7])\n",
    "for clave in notas:\n",
    "    print(clave)\n",
    "    for nota in notas[clave]:\n",
    "        print(nota)"
   ]
  },
  {
   "cell_type": "code",
   "execution_count": 26,
   "metadata": {},
   "outputs": [
    {
     "data": {
      "text/plain": [
       "120"
      ]
     },
     "execution_count": 26,
     "metadata": {},
     "output_type": "execute_result"
    }
   ],
   "source": [
    "#Factorial\n",
    "a*4*3*2*1"
   ]
  },
  {
   "cell_type": "code",
   "execution_count": null,
   "metadata": {},
   "outputs": [],
   "source": []
  }
 ],
 "metadata": {
  "kernelspec": {
   "display_name": "Python 3",
   "language": "python",
   "name": "python3"
  },
  "language_info": {
   "codemirror_mode": {
    "name": "ipython",
    "version": 3
   },
   "file_extension": ".py",
   "mimetype": "text/x-python",
   "name": "python",
   "nbconvert_exporter": "python",
   "pygments_lexer": "ipython3",
   "version": "3.10.8"
  },
  "orig_nbformat": 4
 },
 "nbformat": 4,
 "nbformat_minor": 2
}
