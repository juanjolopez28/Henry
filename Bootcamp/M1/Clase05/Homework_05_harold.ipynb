{
 "cells": [
  {
   "cell_type": "markdown",
   "metadata": {},
   "source": [
    "# Práctica Clase 5"
   ]
  },
  {
   "cell_type": "markdown",
   "metadata": {},
   "source": [
    "1) Implementar un juego, que consista en apilar números enteros del 1 al 20, de forma aleatoria, para lo cual debe usarse una estructura de Pila. \n",
    "Luego, el usuario debe elegir un número de veces en que se va a quitar elementos de la pila, los cuales, sumados entre sí, no deben superar el valor de 50.\n",
    "El usuario pierde si la suma supera ese valor. Si no lo supera, gana, pero su calificación será 10 menos el número elementos que falten quitar para todavía no superar 50.\n",
    "El programa debe informar si perdió, y si ganó, con qué calificación lo hizo.\n",
    "\n",
    "Consideraciones:<br>\n",
    "a. Se puede usar la función input() para obtener una entrada de teclado.<br>\n",
    "b. Se puede usar la el modulo random para obtener valores aleatorios."
   ]
  },
  {
   "cell_type": "code",
   "execution_count": 181,
   "metadata": {},
   "outputs": [],
   "source": [
    "import random as r\n",
    "class Pila():\n",
    "    \n",
    "    def __init__(self):\n",
    "        \n",
    "        self._lista = []\n",
    "        self._puntaje = 0\n",
    "        conteo = 1\n",
    "        \n",
    "        for _ in range(20):\n",
    "            \n",
    "            self._lista.append(conteo)\n",
    "            conteo += 1\n",
    "        r.shuffle(self._lista)\n",
    "    \n",
    "    def quitar_elemento(self):\n",
    "        return self._lista.pop(-1)\n",
    "    \n",
    "        \n",
    "    def mirar_lista(self):\n",
    "        print(self._lista)\n",
    "        \n",
    "    def jugar(self):\n",
    "        print(\"Bienvenido al Juego de la Pila:\")\n",
    "        print(\"El juego consiste en que tienes una pila con 20 numeros del 1 al 10\")\n",
    "        print(\"\"\"ordenados aleatoriamente. Debe elegir un número de veces en que se va \n",
    "a quitar elementos de la pila, los cuales, sumados entre sí, no deben superar\n",
    "el valor de 50. Pierde si la suma supera ese valor. Si no lo supera gana, \n",
    "pero su calificación será 10 menos el número elementos que falten quitar \n",
    "para todavía no superar 50. \n",
    "              \n",
    "              ¡¡BUENA SUERTE!!\"\"\") \n",
    "        puntaje = 0\n",
    "        elementos = input(\"¿cuántos elementos desea quitar de la pila?:\")\n",
    "        for i in range(int(elementos)):\n",
    "            puntaje += self.quitar_elemento()\n",
    "            print(puntaje)\n",
    "            \n",
    "            if puntaje >= 50:\n",
    "                print(\"Perdiste, la suma de\", i+1, \"elementos que se quitaron son\" , puntaje)\n",
    "                break\n",
    "            if i == int(elementos)-1:\n",
    "                print(\"Ganaste, tu puntaje es\", 20-len(self._lista))\n",
    "            \n",
    "        \n",
    "        \n",
    "        \n",
    "    "
   ]
  },
  {
   "cell_type": "code",
   "execution_count": 182,
   "metadata": {},
   "outputs": [],
   "source": [
    "pila = Pila()"
   ]
  },
  {
   "cell_type": "code",
   "execution_count": 183,
   "metadata": {},
   "outputs": [
    {
     "name": "stdout",
     "output_type": "stream",
     "text": [
      "[12, 17, 14, 8, 18, 19, 9, 5, 7, 2, 16, 10, 4, 20, 13, 1, 15, 3, 11, 6]\n"
     ]
    }
   ],
   "source": [
    "pila.mirar_lista()"
   ]
  },
  {
   "cell_type": "code",
   "execution_count": 184,
   "metadata": {},
   "outputs": [
    {
     "data": {
      "text/plain": [
       "6"
      ]
     },
     "execution_count": 184,
     "metadata": {},
     "output_type": "execute_result"
    }
   ],
   "source": [
    "pila.quitar_elemento()"
   ]
  },
  {
   "cell_type": "code",
   "execution_count": 145,
   "metadata": {},
   "outputs": [
    {
     "name": "stdout",
     "output_type": "stream",
     "text": [
      "[8, 10, 2, 13, 20, 17, 6, 3, 16, 14, 11, 19, 4, 12, 18, 9, 5, 7, 1]\n"
     ]
    }
   ],
   "source": [
    "pila.mirar_lista()"
   ]
  },
  {
   "cell_type": "code",
   "execution_count": 146,
   "metadata": {},
   "outputs": [
    {
     "name": "stdout",
     "output_type": "stream",
     "text": [
      "Bienvenido al Juego de la Pila:\n",
      "El juego consiste en que tienes una pila con 20 numeros del 1 al 10\n",
      "ordenados aleatoriamente. Debe elegir un número de veces en que se va \n",
      "a quitar elementos de la pila, los cuales, sumados entre sí, no deben superar\n",
      "el valor de 50. Pierde si la suma supera ese valor. Si no lo supera gana, \n",
      "pero su calificación será 10 menos el número elementos que falten quitar \n",
      "para todavía no superar 50. \n",
      "              \n",
      "              ¡¡BUENA SUERTE!!\n"
     ]
    },
    {
     "name": "stdin",
     "output_type": "stream",
     "text": [
      "¿cuántos elementos desea quitar de la pila?: 4\n"
     ]
    },
    {
     "name": "stdout",
     "output_type": "stream",
     "text": [
      "1\n",
      "8\n",
      "13\n",
      "22\n",
      "Ganaste, tu puntaje es 5\n"
     ]
    }
   ],
   "source": [
    "pila.jugar()"
   ]
  },
  {
   "cell_type": "markdown",
   "metadata": {},
   "source": [
    "2) Implementar un juego donde constas de 2 jarras, de capacidad 5 y 3 litros respectivamente, y debes colocar 4 litros en la jarra de 5L.\n",
    "Las opciones posibles son:\n",
    "* Llenar la jarra de 3 litros\n",
    "* Llenar la jarra de 5 litros\n",
    "* Vaciar la jarra de 3 litros\n",
    "* Vaciar la jarra de 5 litros\n",
    "* Verter el contenido de la jarra de 3 litros en la de 5 litros\n",
    "* Verter el contenido de la jarra de 5 litros en la de 3 litros"
   ]
  },
  {
   "cell_type": "code",
   "execution_count": 210,
   "metadata": {},
   "outputs": [],
   "source": [
    "class Jarra():\n",
    "    \n",
    "    def __init__(self):\n",
    "        \n",
    "        self.__jarra_3_litros = 0\n",
    "        self.__jarra_5_litros = 0\n",
    "        \n",
    "    def llenar_jarra(self, jarra):\n",
    "        \n",
    "        if jarra == 3:\n",
    "            self.__jarra_3_litros = 3\n",
    "        \n",
    "        elif jarra == 5:\n",
    "            self.__jarra_5_litros = 5\n",
    "        else:\n",
    "            print(\"seleccione alguna de las dos jarras disponibles\")\n",
    "            \n",
    "    def vaciar_jarra(self, jarra):\n",
    "        \n",
    "        if jarra == 3:\n",
    "            self.__jarra_3_litros = 0\n",
    "        \n",
    "        elif jarra == 5:\n",
    "            self.__jarra_5_litros = 0\n",
    "        else:\n",
    "            print(\"seleccione alguna de las dos jarras disponibles\")\n",
    "    \n",
    "    def consultar(self):\n",
    "        print (f\"En la jarra 3 hay {self.__jarra_3_litros} lts y en la jarra 5 hay {self.__jarra_5_litros} lts.\") \n",
    "            \n",
    "    def verter_jarra(self,jarra):\n",
    "        \n",
    "        if jarra == 3:\n",
    "            if self.__jarra_5_litros == 0:\n",
    "                self.__jarra_5_litros += self.__jarra_3_litros\n",
    "                self.__jarra_3_litros = 0\n",
    "            else:\n",
    "                while (self.__jarra_3_litros != 0 and self.__jarra_5_litros < 5):\n",
    "                    self.__jarra_5_litros += 1\n",
    "                    self.__jarra_3_litros -= 1\n",
    "\n",
    "        elif jarra == 5:\n",
    "            if self.__jarra_5_litros == 0:\n",
    "                pass\n",
    "            else:\n",
    "                while self.__jarra_5_litros != 0 and self.__jarra_3_litros < 3:\n",
    "                    self.__jarra_3_litros += 1\n",
    "                    self.__jarra_5_litros -= 1\n",
    "        print(f\"Ahora la jarra 3 tiene {self.__jarra_3_litros} lts y la jarra 5 tiene {self.__jarra_5_litros} lts.\")\n",
    "                    \n",
    "            \n",
    "        \n",
    "        \n",
    "    \n",
    "        "
   ]
  },
  {
   "cell_type": "code",
   "execution_count": 230,
   "metadata": {},
   "outputs": [],
   "source": [
    "jarra = Jarra()"
   ]
  },
  {
   "cell_type": "code",
   "execution_count": 231,
   "metadata": {},
   "outputs": [
    {
     "name": "stdout",
     "output_type": "stream",
     "text": [
      "En la jarra 3 hay 0 lts y en la jarra 5 hay 0 lts.\n"
     ]
    }
   ],
   "source": [
    "jarra.consultar()"
   ]
  },
  {
   "cell_type": "code",
   "execution_count": 232,
   "metadata": {},
   "outputs": [],
   "source": [
    "jarra.llenar_jarra(5)"
   ]
  },
  {
   "cell_type": "code",
   "execution_count": 233,
   "metadata": {},
   "outputs": [
    {
     "name": "stdout",
     "output_type": "stream",
     "text": [
      "En la jarra 3 hay 0 lts y en la jarra 5 hay 5 lts.\n"
     ]
    }
   ],
   "source": [
    "jarra.consultar()"
   ]
  },
  {
   "cell_type": "code",
   "execution_count": 234,
   "metadata": {},
   "outputs": [
    {
     "name": "stdout",
     "output_type": "stream",
     "text": [
      "Ahora la jarra 3 tiene 3 lts y la jarra 5 tiene 2 lts.\n"
     ]
    }
   ],
   "source": [
    "jarra.verter_jarra(5)"
   ]
  },
  {
   "cell_type": "code",
   "execution_count": 235,
   "metadata": {},
   "outputs": [],
   "source": [
    "jarra.vaciar_jarra(3)"
   ]
  },
  {
   "cell_type": "code",
   "execution_count": 236,
   "metadata": {},
   "outputs": [
    {
     "name": "stdout",
     "output_type": "stream",
     "text": [
      "En la jarra 3 hay 0 lts y en la jarra 5 hay 2 lts.\n"
     ]
    }
   ],
   "source": [
    "jarra.consultar()"
   ]
  },
  {
   "cell_type": "code",
   "execution_count": 237,
   "metadata": {},
   "outputs": [
    {
     "name": "stdout",
     "output_type": "stream",
     "text": [
      "Ahora la jarra 3 tiene 2 lts y la jarra 5 tiene 0 lts.\n"
     ]
    }
   ],
   "source": [
    "jarra.verter_jarra(5)"
   ]
  },
  {
   "cell_type": "code",
   "execution_count": 238,
   "metadata": {},
   "outputs": [],
   "source": [
    "jarra.llenar_jarra(5)"
   ]
  },
  {
   "cell_type": "code",
   "execution_count": 240,
   "metadata": {},
   "outputs": [
    {
     "name": "stdout",
     "output_type": "stream",
     "text": [
      "Ahora la jarra 3 tiene 3 lts y la jarra 5 tiene 4 lts.\n"
     ]
    }
   ],
   "source": [
    "jarra.verter_jarra(5)"
   ]
  },
  {
   "cell_type": "code",
   "execution_count": null,
   "metadata": {},
   "outputs": [],
   "source": []
  }
 ],
 "metadata": {
  "kernelspec": {
   "display_name": "Python 3 (ipykernel)",
   "language": "python",
   "name": "python3"
  },
  "language_info": {
   "codemirror_mode": {
    "name": "ipython",
    "version": 3
   },
   "file_extension": ".py",
   "mimetype": "text/x-python",
   "name": "python",
   "nbconvert_exporter": "python",
   "pygments_lexer": "ipython3",
   "version": "3.8.10"
  }
 },
 "nbformat": 4,
 "nbformat_minor": 4
}
