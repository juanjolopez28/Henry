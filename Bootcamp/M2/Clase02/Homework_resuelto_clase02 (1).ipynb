{
 "cells": [
  {
   "cell_type": "code",
   "execution_count": null,
   "metadata": {},
   "outputs": [],
   "source": [
    "#1\n",
    "#Regla de conteo\n",
    "nro_tiros = int(input(\"Cuántas veces querés tirar la moneda?: \"))\n",
    "resultado = 2 ** nro_tiros\n",
    "print(\"La cantidad de resultados posibles son:\", resultado, \"en\", nro_tiros, 'tiros')"
   ]
  },
  {
   "cell_type": "code",
   "execution_count": null,
   "metadata": {},
   "outputs": [],
   "source": [
    "#2. En un aeropuerto se tiene a 10 pasajeros esperando en la sala de preembarque, la polícia debe controlar a 3 de ellos. ¿Cuantas combinaciones posibles se pueden obtener?.\n",
    "from math import factorial\n",
    "#Combinación\n",
    "control_aeropuerto = factorial(10) / (factorial(3) * factorial(10-3))\n",
    "print(control_aeropuerto)\n",
    "#Permutación\n",
    "control_aeropuerto = factorial(10) / factorial(10-3)\n",
    "print(control_aeropuerto)\n"
   ]
  },
  {
   "cell_type": "code",
   "execution_count": null,
   "metadata": {},
   "outputs": [],
   "source": [
    "#3\n",
    "#Se utilizó el método frecuentista\n",
    "import pandas as pd\n",
    "regiones = ['Norte', 'Noreste', 'Sur', 'Centro']\n",
    "valores_si = [148, 162, 296, 252]\n",
    "valores_no = [52, 54, 74, 48]\n",
    "datos = dict(Si=valores_si, No=valores_no)\n",
    "cuadro = pd.DataFrame(datos, index=regiones)\n",
    "cuadro = cuadro / (sum(cuadro.sum()))\n",
    "cuadro.loc['Total'] = sum(cuadro.Si), sum(cuadro.No)\n",
    "cuadro = cuadro.assign(Total=cuadro.Si + cuadro.No)\n",
    "cuadro\n",
    "\n",
    "#Para USA se utilizaría el método frecuentista\n",
    "#El director está satisfecho porque se superó el 0.78 (0.79 para sí uso del cinturón)\n"
   ]
  },
  {
   "cell_type": "code",
   "execution_count": null,
   "metadata": {},
   "outputs": [],
   "source": [
    "#Comparación de regiones\n",
    "cuadro.Si / cuadro.Total\n",
    "#La región que más usa el cinturón es la centro, con una probabilidad del 0.84"
   ]
  },
  {
   "cell_type": "code",
   "execution_count": null,
   "metadata": {},
   "outputs": [],
   "source": [
    "#4\n",
    "def probabilidadNaipes(categoria):\n",
    "    cartas_totales = 52\n",
    "    cartas_por_color = 26\n",
    "    cartas_por_palo = 13\n",
    "    if categoria == 'rojo' or categoria == 'negro': return cartas_por_color / cartas_totales\n",
    "    elif categoria in ('pica', 'trébol', 'corazón', 'diamante'): return cartas_por_palo / cartas_totales\n",
    "\n",
    "#probabilidadNaipes('rojo')\n",
    "#probabilidadNaipes('negro')\n",
    "probabilidadNaipes('pica')"
   ]
  },
  {
   "cell_type": "code",
   "execution_count": null,
   "metadata": {},
   "outputs": [],
   "source": [
    "#5\n",
    "8/52"
   ]
  },
  {
   "cell_type": "code",
   "execution_count": null,
   "metadata": {},
   "outputs": [],
   "source": [
    "#6\n",
    "1/32 #No me sirve este modelo\n",
    "#Complejo Frecuentista"
   ]
  },
  {
   "cell_type": "code",
   "execution_count": null,
   "metadata": {},
   "outputs": [],
   "source": [
    "E1 = 20\n",
    "E2 = 13\n",
    "E3 = 17\n",
    "total = E1 + E2 + E3\n",
    "print(E1/total, E2/total, E3/total)\n"
   ]
  }
 ],
 "metadata": {
  "kernelspec": {
   "display_name": "Python 3",
   "language": "python",
   "name": "python3"
  },
  "language_info": {
   "codemirror_mode": {
    "name": "ipython",
    "version": 3
   },
   "file_extension": ".py",
   "mimetype": "text/x-python",
   "name": "python",
   "nbconvert_exporter": "python",
   "pygments_lexer": "ipython3",
   "version": "3.10.8"
  },
  "orig_nbformat": 4
 },
 "nbformat": 4,
 "nbformat_minor": 2
}
