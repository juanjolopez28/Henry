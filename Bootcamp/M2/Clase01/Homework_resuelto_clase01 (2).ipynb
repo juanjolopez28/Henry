{
 "cells": [
  {
   "cell_type": "code",
   "execution_count": null,
   "metadata": {},
   "outputs": [],
   "source": [
    "import numpy as np\n",
    "import pandas as pd\n",
    "from scipy import stats\n",
    "from math import sqrt\n",
    "import matplotlib.pyplot as plt"
   ]
  },
  {
   "cell_type": "code",
   "execution_count": null,
   "metadata": {},
   "outputs": [],
   "source": [
    "muestra = np.array( [[1.85, 1.8, 1.8 , 1.8],\n",
    "                    [1.73,  1.7, 1.75, 1.76],\n",
    "                    [ 1.65, 1.69,  1.67 ,  1.6],\n",
    "                    [1.54,  1.57, 1.58, 1.59],\n",
    "                    [ 1.4 , 1.42,  1.45, 1.48]]) "
   ]
  },
  {
   "cell_type": "code",
   "execution_count": null,
   "metadata": {},
   "outputs": [],
   "source": [
    "#Media aritmética\n",
    "print(muestra.mean())\n",
    "print(np.mean(muestra))\n",
    "def obtenerPromedio(arreglo):\n",
    "    numeros = [numero for fila in arreglo for numero in fila]\n",
    "    suma = 0\n",
    "    for cantidad, numero in enumerate(numeros, 1): suma += numero\n",
    "    promedio = suma / cantidad\n",
    "    return promedio\n",
    "\n",
    "obtenerPromedio(muestra)"
   ]
  },
  {
   "cell_type": "code",
   "execution_count": null,
   "metadata": {},
   "outputs": [],
   "source": [
    "#Mediana\n",
    "print(np.median(muestra))"
   ]
  },
  {
   "cell_type": "code",
   "execution_count": 1,
   "metadata": {},
   "outputs": [
    {
     "name": "stdout",
     "output_type": "stream",
     "text": [
      "2\n",
      "3\n",
      "4\n",
      "66\n",
      "6\n",
      "8\n"
     ]
    }
   ],
   "source": [
    "#Bonus track de programación\n",
    "nums = {2,3,4,4,6,66,6,6,8}\n",
    "for num in nums:\n",
    "    print(num)"
   ]
  },
  {
   "cell_type": "code",
   "execution_count": null,
   "metadata": {},
   "outputs": [],
   "source": [
    "#Moda\n",
    "#print(muestra.flatten())\n",
    "print(stats.mode(muestra.flatten())[0][0])\n",
    "def obtenerModa(arreglo):\n",
    "   numeros = [numero for fila in arreglo for numero in fila] #Paso la matriz a una lista\n",
    "   unicos = set(numeros) #Obtengo los valores únicos\n",
    "   moda, maximo = 0, 0\n",
    "   for num in unicos:\n",
    "      conteo = numeros.count(num) #Busco cuántas veces aparece ese números en numeros\n",
    "      if conteo > maximo:\n",
    "         maximo = conteo\n",
    "         moda = num\n",
    "   return moda, maximo\n",
    "\n",
    "obtenerModa(muestra)"
   ]
  },
  {
   "cell_type": "code",
   "execution_count": null,
   "metadata": {},
   "outputs": [],
   "source": [
    "#Varianza\n",
    "print(np.var(muestra))\n",
    "\n",
    "def obtenerVarianza(arreglo):\n",
    "    promedio = obtenerPromedio(arreglo)\n",
    "    numeros = [numero for fila in arreglo for numero in fila]\n",
    "    suma = 0\n",
    "    for cantidad, numero in enumerate(numeros, 1): suma += pow((numero - promedio), 2)\n",
    "    varianza = suma / cantidad\n",
    "    return varianza\n",
    "\n",
    "obtenerVarianza(muestra)"
   ]
  },
  {
   "cell_type": "code",
   "execution_count": null,
   "metadata": {},
   "outputs": [],
   "source": [
    "#Desvío estandar\n",
    "print(np.std(muestra))\n",
    "#print(sqrt(obtenerVarianza(muestra)))\n",
    "print(obtenerVarianza(muestra) ** (1/2))"
   ]
  },
  {
   "cell_type": "code",
   "execution_count": null,
   "metadata": {},
   "outputs": [],
   "source": [
    "#Coeficiente\n",
    "print(round((obtenerVarianza(muestra) ** (1/2)) / obtenerPromedio(muestra) * 100, 2))"
   ]
  },
  {
   "cell_type": "code",
   "execution_count": null,
   "metadata": {},
   "outputs": [],
   "source": [
    "#2\n",
    "numeros = [numero for fila in muestra for numero in fila] #Paso la matriz a una lista\n",
    "plt.hist(x=numeros, bins=5, color='cyan', rwidth=0.8)\n",
    "plt.title(\"Histograma de alturas\", color='Blue')\n",
    "plt.xlabel(\"Altura (en metros)\")\n",
    "plt.ylabel(\"Frecuencia\")\n",
    "plt.show()\n",
    "\n",
    "#No tiene distribución normal"
   ]
  },
  {
   "cell_type": "code",
   "execution_count": null,
   "metadata": {},
   "outputs": [],
   "source": [
    "#3\n",
    "df = pd.DataFrame(muestra, index = range(1,6), columns = ['col1', 'col2', 'col3', 'col4'])\n",
    "df.describe()"
   ]
  },
  {
   "cell_type": "code",
   "execution_count": null,
   "metadata": {},
   "outputs": [],
   "source": [
    "(1.634 + 1.636 + 1.65 + 1.646) / 4"
   ]
  },
  {
   "cell_type": "code",
   "execution_count": null,
   "metadata": {},
   "outputs": [],
   "source": [
    "#4\n",
    "grupos = np.array([[10.5,17],\n",
    "                  [6.8,18],\n",
    "                  [20.7,21],\n",
    "                  [18.2,16],\n",
    "                  [8.6,16],\n",
    "                  [25.8,21],\n",
    "                  [22.2,16],\n",
    "                  [5.9,14],\n",
    "                  [7.6,18],\n",
    "                  [11.8,18]])\n",
    "grupos_df = pd.DataFrame(grupos, index = range(1,11), columns = ['Ingreso en miles', 'Años de estudio'])\n",
    "grupos_df"
   ]
  },
  {
   "cell_type": "code",
   "execution_count": null,
   "metadata": {},
   "outputs": [],
   "source": [
    "#5\n",
    "plt.hist(x=grupos_df['Ingreso en miles'], bins = 6, color='cyan', rwidth=0.8)\n",
    "plt.title(\"Histograma de Ingreso en miles\", color='Red')\n",
    "plt.xlabel(\"Ingreso en miles\")\n",
    "plt.ylabel(\"Frecuencia\")\n",
    "plt.show()"
   ]
  },
  {
   "cell_type": "code",
   "execution_count": null,
   "metadata": {},
   "outputs": [],
   "source": [
    "plt.hist(x=grupos_df['Años de estudio'], bins = 6, color='cyan', rwidth=0.8)\n",
    "plt.title(\"Histograma de Años de estudio\", color='Red')\n",
    "plt.xlabel(\"Años de estudio\")\n",
    "plt.ylabel(\"Frecuencia\")\n",
    "plt.show()"
   ]
  },
  {
   "cell_type": "code",
   "execution_count": null,
   "metadata": {},
   "outputs": [],
   "source": [
    "#6\n",
    "print(grupos_df['Ingreso en miles'].mean())"
   ]
  },
  {
   "cell_type": "code",
   "execution_count": null,
   "metadata": {},
   "outputs": [],
   "source": [
    "#7\n",
    "np.mean(grupos[:, 0])"
   ]
  },
  {
   "cell_type": "code",
   "execution_count": null,
   "metadata": {},
   "outputs": [],
   "source": [
    "#8\n",
    "grupos_df.loc[11] = [50, 35]\n",
    "grupos_df.loc[12] = [120, 30]\n",
    "grupos_df.describe()"
   ]
  }
 ],
 "metadata": {
  "kernelspec": {
   "display_name": "Python 3",
   "language": "python",
   "name": "python3"
  },
  "language_info": {
   "codemirror_mode": {
    "name": "ipython",
    "version": 3
   },
   "file_extension": ".py",
   "mimetype": "text/x-python",
   "name": "python",
   "nbconvert_exporter": "python",
   "pygments_lexer": "ipython3",
   "version": "3.8.10"
  },
  "orig_nbformat": 4
 },
 "nbformat": 4,
 "nbformat_minor": 2
}
