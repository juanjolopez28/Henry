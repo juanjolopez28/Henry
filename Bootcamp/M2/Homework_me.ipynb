{
 "cells": [
  {
   "cell_type": "markdown",
   "metadata": {},
   "source": [
    "# Práctica Clase 2"
   ]
  },
  {
   "cell_type": "markdown",
   "metadata": {},
   "source": [
    "1) Abrir el archivo \"Emisiones_CO2.csv\" y cargar sus datos en un diccionario."
   ]
  },
  {
   "cell_type": "code",
   "execution_count": 15,
   "metadata": {},
   "outputs": [
    {
     "name": "stdout",
     "output_type": "stream",
     "text": [
      "Hola  soy Juan Lopez\n"
     ]
    }
   ],
   "source": []
  },
  {
   "cell_type": "code",
   "execution_count": 5,
   "metadata": {},
   "outputs": [
    {
     "name": "stdout",
     "output_type": "stream",
     "text": [
      "{'cod_pais': 'ZWE', 'nom_pais': 'Zimbabue', 'region': 'África subsahariana', 'anio': '2011', 'co2': '9.860,56', 'co2_percapita': '0,691697897'}\n"
     ]
    }
   ],
   "source": [
    "#El r es para rutas y no es necesario mover el \\\n",
    "#archivo = open(r'C:\\Users\\gonza\\Documents\\Trabajo\\Henry\\Data Science\\DS-M1\\Clase 02\\Emisiones_CO2.csv')\n",
    "archivo=open(\"Emisiones_CO2.csv\",'r',encoding=\"latin-1\")\n",
    "dicc_emisiones = {  'cod_pais' : [],\n",
    "                    'nom_pais' : [],\n",
    "                    'region' : [],\n",
    "                    'anio' : [],\n",
    "                    'co2' : [],\n",
    "                    'co2_percapita' : []}\n",
    "#leemos primera lineas\n",
    "next(archivo)\n",
    "for linea in archivo:\n",
    "    linea=linea.strip()# eliminamos salto de linea final y espacios en blanco iniciales y finales\n",
    "    linea=linea.split(\"|\")# dividimos en una lista segun el caracter\n",
    "    #print(linea)\n",
    "    dicc_emisiones['cod_pais']=linea[0]\n",
    "    dicc_emisiones['nom_pais']=linea[1]\n",
    "    dicc_emisiones['region']=linea[2]\n",
    "    dicc_emisiones['anio']=linea[3]\n",
    "    dicc_emisiones['co2']=linea[4]\n",
    "    dicc_emisiones['co2_percapita']=linea[5]\n",
    "print(dicc_emisiones)\n",
    "archivo.close()"
   ]
  },
  {
   "cell_type": "markdown",
   "metadata": {},
   "source": [
    "2) a) ¿Cuántas variables hay? <br>\n",
    "b) ¿Qué tipos de datos usar para cada una? <br>\n",
    "c) ¿Qué tipo de variables son? <br>\n",
    "d) ¿Hay valores faltantes? <br>\n",
    "e) ¿Cuál es el total de emisiones de CO2 para 'América Latina y Caribe' en el año 2010?"
   ]
  },
  {
   "cell_type": "code",
   "execution_count": null,
   "metadata": {},
   "outputs": [],
   "source": [
    "#import pandas as pd\n",
    "#df_students = pd.read_csv('Emisiones_CO2.csv',delimiter='|',header='infer',encoding='latin-1')\n",
    "#df_students.head()"
   ]
  },
  {
   "cell_type": "code",
   "execution_count": 8,
   "metadata": {},
   "outputs": [
    {
     "ename": "ValueError",
     "evalue": "could not convert string to float: ''",
     "output_type": "error",
     "traceback": [
      "\u001b[0;31m---------------------------------------------------------------------------\u001b[0m",
      "\u001b[0;31mValueError\u001b[0m                                Traceback (most recent call last)",
      "Cell \u001b[0;32mIn[8], line 20\u001b[0m\n\u001b[1;32m     18\u001b[0m     dicc_emisiones[\u001b[39m'\u001b[39m\u001b[39mregion\u001b[39m\u001b[39m'\u001b[39m]\u001b[39m.\u001b[39mappend(linea[\u001b[39m2\u001b[39m])\n\u001b[1;32m     19\u001b[0m     dicc_emisiones[\u001b[39m'\u001b[39m\u001b[39manio\u001b[39m\u001b[39m'\u001b[39m]\u001b[39m.\u001b[39mappend(\u001b[39mint\u001b[39m(linea[\u001b[39m3\u001b[39m]))\n\u001b[0;32m---> 20\u001b[0m     dicc_emisiones[\u001b[39m'\u001b[39m\u001b[39mco2\u001b[39m\u001b[39m'\u001b[39m]\u001b[39m.\u001b[39mappend(\u001b[39mfloat\u001b[39;49m(linea[\u001b[39m4\u001b[39;49m]))\n\u001b[1;32m     21\u001b[0m     dicc_emisiones[\u001b[39m'\u001b[39m\u001b[39mco2_percapita\u001b[39m\u001b[39m'\u001b[39m]\u001b[39m.\u001b[39mappend(\u001b[39mfloat\u001b[39m(linea[\u001b[39m5\u001b[39m]))\n\u001b[1;32m     22\u001b[0m \u001b[39mprint\u001b[39m(dicc_emisiones)\n",
      "\u001b[0;31mValueError\u001b[0m: could not convert string to float: ''"
     ]
    }
   ],
   "source": [
    "#a)Que tipo de datos?\n",
    "# se considera par anio int, para co2 float y para co2percapita\n",
    "archivo=open(\"Emisiones_CO2.csv\",'r',encoding=\"latin-1\")\n",
    "dicc_emisiones = {  'cod_pais' : [],\n",
    "                    'nom_pais' : [],\n",
    "                    'region' : [],\n",
    "                    'anio' : [],\n",
    "                    'co2' : [],\n",
    "                    'co2_percapita' : []}\n",
    "#leemos primera lineas\n",
    "next(archivo)\n",
    "for linea in archivo:\n",
    "    linea=linea.strip()# eliminamos salto de linea final y espacios en blanco iniciales y finales\n",
    "    linea=linea.split(\"|\")# dividimos en una lista segun el caracter\n",
    "    #print(linea)\n",
    "    dicc_emisiones['cod_pais'].append(linea[0])\n",
    "    dicc_emisiones['nom_pais'].append(linea[1])\n",
    "    dicc_emisiones['region'].append(linea[2])\n",
    "    dicc_emisiones['anio'].append(int(linea[3]))\n",
    "    dicc_emisiones['co2'].append(float(linea[4]))\n",
    "    dicc_emisiones['co2_percapita'].append(float(linea[5]))\n",
    "print(dicc_emisiones)\n",
    "archivo.close()"
   ]
  }
 ],
 "metadata": {
  "interpreter": {
   "hash": "c85384e4cb51c8b72350f3a8712cc8351fdc3955e32a27f9b60c6242ab125f01"
  },
  "kernelspec": {
   "display_name": "Python 3.9.7 ('henry')",
   "language": "python",
   "name": "python3"
  },
  "language_info": {
   "codemirror_mode": {
    "name": "ipython",
    "version": 3
   },
   "file_extension": ".py",
   "mimetype": "text/x-python",
   "name": "python",
   "nbconvert_exporter": "python",
   "pygments_lexer": "ipython3",
   "version": "3.8.10"
  },
  "orig_nbformat": 4
 },
 "nbformat": 4,
 "nbformat_minor": 2
}
