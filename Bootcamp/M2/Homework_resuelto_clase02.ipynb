{
 "cells": [
  {
   "cell_type": "markdown",
   "metadata": {},
   "source": [
    "# Práctica Clase 2"
   ]
  },
  {
   "cell_type": "markdown",
   "metadata": {},
   "source": [
    "1) Abrir el archivo \"Emisiones_CO2.csv\" y cargar sus datos en un diccionario."
   ]
  },
  {
   "cell_type": "code",
   "execution_count": null,
   "metadata": {},
   "outputs": [],
   "source": [
    "archivo = open(r'C:\\Users\\gonza\\Documents\\Trabajo\\Henry\\Data Science\\DS-M1\\Clase 02\\Emisiones_CO2.csv')"
   ]
  },
  {
   "cell_type": "code",
   "execution_count": null,
   "metadata": {},
   "outputs": [],
   "source": [
    "dicc_emisiones = {  'cod_pais' : [],\n",
    "                    'nom_pais' : [],\n",
    "                    'region' : [],\n",
    "                    'anio' : [],\n",
    "                    'co2' : [],\n",
    "                    'co2_percapita' : []}"
   ]
  },
  {
   "cell_type": "code",
   "execution_count": null,
   "metadata": {},
   "outputs": [],
   "source": [
    "next(archivo)\n",
    "for linea in archivo:\n",
    "   linea = linea.strip()\n",
    "   campos = linea.split('|')\n",
    "   dicc_emisiones['cod_pais'].append(campos[0])   \n",
    "   dicc_emisiones['nom_pais'].append(campos[1])   \n",
    "   dicc_emisiones['region'].append(campos[2])   \n",
    "   dicc_emisiones['anio'].append(int(campos[3]))   \n",
    "   dicc_emisiones['co2'].append(campos[4])   \n",
    "   dicc_emisiones['co2_percapita'].append(campos[5])"
   ]
  },
  {
   "cell_type": "code",
   "execution_count": null,
   "metadata": {},
   "outputs": [],
   "source": [
    "type(dicc_emisiones['anio'][1])"
   ]
  },
  {
   "cell_type": "code",
   "execution_count": null,
   "metadata": {},
   "outputs": [],
   "source": [
    "archivo.close()"
   ]
  },
  {
   "cell_type": "markdown",
   "metadata": {},
   "source": [
    "2) a) ¿Cuántas variables hay? <br>\n",
    "b) ¿Qué tipos de datos usar para cada una? <br>\n",
    "c) ¿Qué tipo de variables son? <br>\n",
    "d) ¿Hay valores faltantes? <br>\n",
    "e) ¿Cuál es el total de emisiones de CO2 para 'América Latina y Caribe' en el año 2010?"
   ]
  },
  {
   "cell_type": "code",
   "execution_count": null,
   "metadata": {},
   "outputs": [],
   "source": [
    "#Valores faltantes\n",
    "\n",
    "for clave in dicc_emisiones:\n",
    "   for elemento in dicc_emisiones[clave]:\n",
    "      if not elemento:\n",
    "         print(\"Falta un elemento en\", clave)"
   ]
  },
  {
   "cell_type": "code",
   "execution_count": null,
   "metadata": {},
   "outputs": [],
   "source": [
    "#Normalización de los campos\n",
    "\n",
    "def normalizacion(lista):\n",
    "   for indice, elemento in enumerate(lista):\n",
    "      if elemento:\n",
    "         elemento = elemento.replace('.', '')\n",
    "         elemento = elemento.replace(',', '.')\n",
    "         elemento = float(elemento)\n",
    "      else: elemento = None\n",
    "      lista[indice] = elemento\n",
    "   return lista\n"
   ]
  },
  {
   "cell_type": "code",
   "execution_count": null,
   "metadata": {},
   "outputs": [],
   "source": [
    "dicc_emisiones['co2'] = normalizacion(dicc_emisiones['co2'])\n",
    "dicc_emisiones['co2_percapita'] = normalizacion(dicc_emisiones['co2_percapita'])"
   ]
  },
  {
   "cell_type": "code",
   "execution_count": null,
   "metadata": {},
   "outputs": [],
   "source": [
    "type(dicc_emisiones['co2'][26])"
   ]
  },
  {
   "cell_type": "code",
   "execution_count": null,
   "metadata": {},
   "outputs": [],
   "source": [
    "filtro_region = 'América Latina y Caribe'\n",
    "filtro_anio = 2010\n",
    "emisiones = 0\n",
    "for i in range(len(dicc_emisiones['region'])):\n",
    "    if dicc_emisiones['region'][i] == filtro_region and dicc_emisiones['anio'][i] == filtro_anio and dicc_emisiones['co2'][i] != None: emisiones += dicc_emisiones['co2'][i]\n",
    "\n",
    "print(f'Las emisiones en {filtro_region} en {filtro_anio} fueron de {round(emisiones, 3)} kt')"
   ]
  },
  {
   "cell_type": "code",
   "execution_count": null,
   "metadata": {},
   "outputs": [],
   "source": [
    "#Bonus track programación\n",
    "lista  = [2,3,4]\n",
    "lista[1] = 0\n",
    "#lista\n",
    "\n",
    "#for num in lista:\n",
    "   #print(num)\n",
    "\n",
    "for i in range(len(lista)):\n",
    "    print(lista[i])"
   ]
  }
 ],
 "metadata": {
  "kernelspec": {
   "display_name": "Python 3.10.5 64-bit",
   "language": "python",
   "name": "python3"
  },
  "language_info": {
   "codemirror_mode": {
    "name": "ipython",
    "version": 3
   },
   "file_extension": ".py",
   "mimetype": "text/x-python",
   "name": "python",
   "nbconvert_exporter": "python",
   "pygments_lexer": "ipython3",
   "version": "3.10.8"
  },
  "orig_nbformat": 4,
  "vscode": {
   "interpreter": {
    "hash": "bb63a77499ed5899fffa71b49f0fc3f4df2c625891c3993c985b13a523c87e61"
   }
  }
 },
 "nbformat": 4,
 "nbformat_minor": 2
}
