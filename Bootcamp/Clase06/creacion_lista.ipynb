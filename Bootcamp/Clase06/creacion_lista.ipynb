{
 "cells": [
  {
   "cell_type": "code",
   "execution_count": 89,
   "id": "32e96c22-36f1-4c7f-99c7-4b8b4eada67f",
   "metadata": {},
   "outputs": [],
   "source": [
    "class Nodo():\n",
    "    \n",
    "    def __init__(self, val):\n",
    "        self.valor = val\n",
    "        self.apuntador = None\n",
    "        \n",
    "    \n",
    "    def apuntar(self, valor):\n",
    "        self.apuntador = valor\n",
    "        \n",
    "        \n",
    "    def cambiar_valor(self, valor):\n",
    "        self.valor = valor\n",
    "    "
   ]
  },
  {
   "cell_type": "code",
   "execution_count": 69,
   "id": "be44684f-0633-4526-a3ba-1e16add4a081",
   "metadata": {},
   "outputs": [],
   "source": [
    "n1 = Nodo(\" \")    *"
   ]
  },
  {
   "cell_type": "code",
   "execution_count": 70,
   "id": "0187e123-4693-46b1-95a2-fe004e061d8e",
   "metadata": {},
   "outputs": [],
   "source": [
    "n1.apuntar(n2,n3)"
   ]
  },
  {
   "cell_type": "code",
   "execution_count": 71,
   "id": "0eaae943-1e85-4bc7-abb5-aff076fc4d99",
   "metadata": {},
   "outputs": [
    {
     "data": {
      "text/plain": [
       "<__main__.Nodo at 0x7facd5861df0>"
      ]
     },
     "execution_count": 71,
     "metadata": {},
     "output_type": "execute_result"
    }
   ],
   "source": [
    "n1.apuntador1"
   ]
  },
  {
   "cell_type": "code",
   "execution_count": 72,
   "id": "a1bd3097-e638-4cee-acb7-06850498aaaf",
   "metadata": {},
   "outputs": [
    {
     "data": {
      "text/plain": [
       "<__main__.Nodo at 0x7facd5861310>"
      ]
     },
     "execution_count": 72,
     "metadata": {},
     "output_type": "execute_result"
    }
   ],
   "source": [
    "n1.apuntador2"
   ]
  },
  {
   "cell_type": "code",
   "execution_count": 58,
   "id": "5e2ce00e-cad3-4d4c-b9e6-5b3c7095a60f",
   "metadata": {},
   "outputs": [],
   "source": [
    "n1.apuntar(n3)"
   ]
  },
  {
   "cell_type": "code",
   "execution_count": 54,
   "id": "cf161c3e-abd0-410d-8bf6-40357b34b9be",
   "metadata": {},
   "outputs": [
    {
     "data": {
      "text/plain": [
       "<__main__.Nodo at 0x7facd5861df0>"
      ]
     },
     "execution_count": 54,
     "metadata": {},
     "output_type": "execute_result"
    }
   ],
   "source": [
    "n2"
   ]
  },
  {
   "cell_type": "code",
   "execution_count": 53,
   "id": "45b9b340-a887-42dd-aba1-0d0e952b36c9",
   "metadata": {},
   "outputs": [
    {
     "data": {
      "text/plain": [
       "' '"
      ]
     },
     "execution_count": 53,
     "metadata": {},
     "output_type": "execute_result"
    }
   ],
   "source": [
    "n1.valor"
   ]
  },
  {
   "cell_type": "code",
   "execution_count": 46,
   "id": "a5db7fc8-41f9-482f-816a-326fed016909",
   "metadata": {},
   "outputs": [],
   "source": [
    "n1.apuntador"
   ]
  },
  {
   "cell_type": "code",
   "execution_count": 28,
   "id": "ecc8e162-c00a-4f52-850d-e793df1f07dc",
   "metadata": {},
   "outputs": [
    {
     "data": {
      "text/plain": [
       "'Este es el primer nodo'"
      ]
     },
     "execution_count": 28,
     "metadata": {},
     "output_type": "execute_result"
    }
   ],
   "source": [
    "n1.valor"
   ]
  },
  {
   "cell_type": "code",
   "execution_count": 29,
   "id": "bf4196a1-f308-41c5-97fb-5e9173163c75",
   "metadata": {},
   "outputs": [
    {
     "name": "stdout",
     "output_type": "stream",
     "text": [
      "None\n"
     ]
    }
   ],
   "source": [
    "print(n1.apuntador)"
   ]
  },
  {
   "cell_type": "code",
   "execution_count": 30,
   "id": "126d4d31-9c24-492b-904f-2747fc91a7e5",
   "metadata": {},
   "outputs": [],
   "source": [
    "n2 = Nodo(3)"
   ]
  },
  {
   "cell_type": "code",
   "execution_count": 31,
   "id": "c9e577d4-162d-4645-b56c-d5f1531a555e",
   "metadata": {},
   "outputs": [
    {
     "data": {
      "text/plain": [
       "3"
      ]
     },
     "execution_count": 31,
     "metadata": {},
     "output_type": "execute_result"
    }
   ],
   "source": [
    "n2.valor"
   ]
  },
  {
   "cell_type": "code",
   "execution_count": 32,
   "id": "8b48dcc2-f49e-48b2-8acf-a0f6dcd384bc",
   "metadata": {},
   "outputs": [
    {
     "name": "stdout",
     "output_type": "stream",
     "text": [
      "None\n"
     ]
    }
   ],
   "source": [
    "print(n2.apuntador)"
   ]
  },
  {
   "cell_type": "code",
   "execution_count": 47,
   "id": "5f6c1a33-16e2-4283-a6be-97c559854742",
   "metadata": {},
   "outputs": [],
   "source": [
    "n1.apuntar(n2)"
   ]
  },
  {
   "cell_type": "code",
   "execution_count": 48,
   "id": "566503ab-32f4-4912-b70c-e32f518501ee",
   "metadata": {},
   "outputs": [
    {
     "name": "stdout",
     "output_type": "stream",
     "text": [
      "<__main__.Nodo object at 0x7facd5861df0>\n"
     ]
    }
   ],
   "source": [
    "print(n1.apuntador)"
   ]
  },
  {
   "cell_type": "code",
   "execution_count": 49,
   "id": "6e72fc5f-a48c-4251-a6b7-c53eb68c243c",
   "metadata": {},
   "outputs": [],
   "source": [
    "n1.apuntador.apuntador"
   ]
  },
  {
   "cell_type": "code",
   "execution_count": 37,
   "id": "b3160cf9-0dfb-4b0d-ac13-b0afe54e1fc6",
   "metadata": {},
   "outputs": [],
   "source": [
    "n3 = Nodo(3.1416)"
   ]
  },
  {
   "cell_type": "code",
   "execution_count": 38,
   "id": "29bc16e8-43ae-4b46-a504-9e48aa480dbf",
   "metadata": {},
   "outputs": [],
   "source": [
    "n1.apuntar(n3)"
   ]
  },
  {
   "cell_type": "code",
   "execution_count": 39,
   "id": "fa39cd18-6b3e-44ed-9414-05765358bee1",
   "metadata": {},
   "outputs": [
    {
     "data": {
      "text/plain": [
       "3.1416"
      ]
     },
     "execution_count": 39,
     "metadata": {},
     "output_type": "execute_result"
    }
   ],
   "source": [
    "n1.apuntador.valor"
   ]
  },
  {
   "cell_type": "code",
   "execution_count": 40,
   "id": "853c6c0c-c573-4033-b40f-ce869adb0ce3",
   "metadata": {},
   "outputs": [],
   "source": [
    "n3.cambiar_valor(\"Hola\")"
   ]
  },
  {
   "cell_type": "code",
   "execution_count": 41,
   "id": "90938555-b2dc-4c76-919a-3a4a9b046761",
   "metadata": {},
   "outputs": [
    {
     "data": {
      "text/plain": [
       "'Hola'"
      ]
     },
     "execution_count": 41,
     "metadata": {},
     "output_type": "execute_result"
    }
   ],
   "source": [
    "n3.valor"
   ]
  },
  {
   "cell_type": "code",
   "execution_count": 158,
   "id": "26f9d148-0637-455c-b186-9e5b6d1bcea4",
   "metadata": {},
   "outputs": [],
   "source": [
    "class Lista_enlazada():\n",
    "    \n",
    "    def __init__(self):\n",
    "        self.principal = None\n",
    "        \n",
    "    def adicionar(self, val):\n",
    "        \n",
    "        nuevo_nodo = Nodo(val)\n",
    "        nuevo_nodo.apuntar(self.principal)\n",
    "        self.principal = nuevo_nodo \n",
    "    \n",
    "    def imprimir_lista(self):\n",
    "        \n",
    "        lista = self.principal\n",
    "        while (lista != None):\n",
    "            print(lista.valor)\n",
    "            lista = lista.apuntador\n",
    "    \n",
    "    def tamano(self):\n",
    "        conteo = 0\n",
    "        lista = self.principal\n",
    "        \n",
    "        while (lista != None):\n",
    "            conteo += 1\n",
    "            lista = lista.apuntador\n",
    "        print(\"La cantidad de elementos en la lista enlazada es \", conteo)\n",
    "        \n",
    "    def posicion_valor(self, posicion):\n",
    "        \n",
    "        conteo = 1\n",
    "        lista = self.principal\n",
    "        while (lista != None):\n",
    "            if conteo == posicion:\n",
    "                print(lista.valor)\n",
    "                break\n",
    "            conteo += 1\n",
    "            lista = lista.apuntador\n",
    "    \n",
    "        \n",
    "        \n",
    "        \n",
    "        "
   ]
  },
  {
   "cell_type": "code",
   "execution_count": 171,
   "id": "aa8d9dfd-2cde-4202-b47c-f96ea814db5d",
   "metadata": {},
   "outputs": [],
   "source": [
    "lista_prueba = Lista_enlazada()"
   ]
  },
  {
   "cell_type": "code",
   "execution_count": 172,
   "id": "107e56f0-ad48-4d5d-973e-198fe4fe82a8",
   "metadata": {},
   "outputs": [],
   "source": [
    "lista_prueba.adicionar(3)"
   ]
  },
  {
   "cell_type": "code",
   "execution_count": 173,
   "id": "d3e920ce-50a0-421f-9967-2a9627a86b0a",
   "metadata": {},
   "outputs": [],
   "source": [
    "lista_prueba.adicionar(\"hola\")"
   ]
  },
  {
   "cell_type": "code",
   "execution_count": 174,
   "id": "6375259e-812c-4e40-899b-c786aede52d6",
   "metadata": {},
   "outputs": [
    {
     "name": "stdout",
     "output_type": "stream",
     "text": [
      "hola\n",
      "3\n"
     ]
    }
   ],
   "source": [
    "lista_prueba.imprimir_lista()"
   ]
  },
  {
   "cell_type": "code",
   "execution_count": 175,
   "id": "5d11342a-c349-41a7-8302-58a32bee5a62",
   "metadata": {},
   "outputs": [],
   "source": [
    "lista_prueba.adicionar(False)"
   ]
  },
  {
   "cell_type": "code",
   "execution_count": 176,
   "id": "dc6ed52b-22e8-4a3c-8b01-389c6399ae05",
   "metadata": {},
   "outputs": [
    {
     "name": "stdout",
     "output_type": "stream",
     "text": [
      "False\n",
      "hola\n",
      "3\n"
     ]
    }
   ],
   "source": [
    "lista_prueba.imprimir_lista()"
   ]
  },
  {
   "cell_type": "code",
   "execution_count": 178,
   "id": "8e15f2c0-4195-4514-81c1-0ec394c39d85",
   "metadata": {},
   "outputs": [],
   "source": [
    "for i in range(4):\n",
    "    lista_prueba.adicionar(i)"
   ]
  },
  {
   "cell_type": "code",
   "execution_count": 179,
   "id": "8356e900-b0ce-4100-a31a-4842b3608b5f",
   "metadata": {},
   "outputs": [
    {
     "name": "stdout",
     "output_type": "stream",
     "text": [
      "3\n",
      "2\n",
      "1\n",
      "0\n",
      "False\n",
      "hola\n",
      "3\n"
     ]
    }
   ],
   "source": [
    "lista_prueba.imprimir_lista()"
   ]
  },
  {
   "cell_type": "code",
   "execution_count": 181,
   "id": "3c4e7452-0a6a-4aa1-aa94-a6118e557ccd",
   "metadata": {},
   "outputs": [
    {
     "name": "stdout",
     "output_type": "stream",
     "text": [
      "La cantidad de elementos en la lista enlazada es  7\n"
     ]
    }
   ],
   "source": [
    "lista_prueba.tamano()"
   ]
  },
  {
   "cell_type": "code",
   "execution_count": 167,
   "id": "de9f5a75-5c93-411c-8143-0321060a3185",
   "metadata": {},
   "outputs": [
    {
     "name": "stdout",
     "output_type": "stream",
     "text": [
      "hola\n"
     ]
    }
   ],
   "source": [
    "lista_prueba.posicion_valor(2)"
   ]
  },
  {
   "cell_type": "code",
   "execution_count": 148,
   "id": "6dc76500-15ad-4635-8f22-d010564c4b87",
   "metadata": {},
   "outputs": [
    {
     "name": "stdout",
     "output_type": "stream",
     "text": [
      "La cantidad de elementos en la lista enlazada es  3\n"
     ]
    }
   ],
   "source": [
    "lista_prueba.tamano()"
   ]
  },
  {
   "cell_type": "code",
   "execution_count": 139,
   "id": "57b58ca7-dece-497e-82c3-3334a13b3392",
   "metadata": {},
   "outputs": [],
   "source": [
    "lista = [1,2,3,4,]"
   ]
  },
  {
   "cell_type": "code",
   "execution_count": 132,
   "id": "97ca4860-dd63-4c31-9ecb-950360566a14",
   "metadata": {},
   "outputs": [
    {
     "data": {
      "text/plain": [
       "4"
      ]
     },
     "execution_count": 132,
     "metadata": {},
     "output_type": "execute_result"
    }
   ],
   "source": [
    "len(lista)"
   ]
  },
  {
   "cell_type": "code",
   "execution_count": 168,
   "id": "20df18a7-0256-4ce5-9381-452ad426b0c4",
   "metadata": {},
   "outputs": [],
   "source": [
    "lista1 = [3,4,5,6]\n",
    "lista2 = [7,6,8,9]"
   ]
  },
  {
   "cell_type": "code",
   "execution_count": 169,
   "id": "0b9d509a-839a-42e4-9ac2-c62c619e722c",
   "metadata": {},
   "outputs": [
    {
     "data": {
      "text/plain": [
       "[3, 4, 5, 6, 7, 6, 8, 9]"
      ]
     },
     "execution_count": 169,
     "metadata": {},
     "output_type": "execute_result"
    }
   ],
   "source": [
    "lista1 + lista2"
   ]
  },
  {
   "cell_type": "code",
   "execution_count": 170,
   "id": "f10284ef-902e-4a84-a97b-a11a2998e4dc",
   "metadata": {},
   "outputs": [
    {
     "data": {
      "text/plain": [
       "4"
      ]
     },
     "execution_count": 170,
     "metadata": {},
     "output_type": "execute_result"
    }
   ],
   "source": [
    "lista[3]"
   ]
  }
 ],
 "metadata": {
  "kernelspec": {
   "display_name": "Python 3 (ipykernel)",
   "language": "python",
   "name": "python3"
  },
  "language_info": {
   "codemirror_mode": {
    "name": "ipython",
    "version": 3
   },
   "file_extension": ".py",
   "mimetype": "text/x-python",
   "name": "python",
   "nbconvert_exporter": "python",
   "pygments_lexer": "ipython3",
   "version": "3.8.10"
  }
 },
 "nbformat": 4,
 "nbformat_minor": 5
}
