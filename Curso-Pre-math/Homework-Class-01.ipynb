{
 "cells": [
  {
   "attachments": {},
   "cell_type": "markdown",
   "metadata": {},
   "source": [
    "1) Responde para cada número con N, E, Re, Ra o I según sea Naturales, Enteros, Reales, Racionales o Irracionales. Responder con la categoría más restrictiva, ej: 1 -> R: N.\n",
    "\n",
    "a- 198 -> N\n",
    "b- 4 -> N\n",
    "c- -3.1->Real\n",
    "d- -1/4->Real\n",
    "e- 10.0->Real\n",
    "f- 2*e->Irracional\n",
    "g- -123.0004->Real"
   ]
  },
  {
   "attachments": {},
   "cell_type": "markdown",
   "metadata": {},
   "source": [
    "2) Calcula los siguientes porcentajes y y redondea la respuesta a su PRIMER número decimal\n",
    "\n",
    "a- 30% de 2000 -> 600\n",
    "b- 2000% de 30 -> 600\n",
    "c- 10% de 150 ->15\n",
    "d- 25.5% de 27-> 6.885\n",
    "e- 25.5% de 0.9 ->0,22"
   ]
  },
  {
   "cell_type": "code",
   "execution_count": 2,
   "metadata": {},
   "outputs": [
    {
     "name": "stdout",
     "output_type": "stream",
     "text": [
      "688.5\n",
      "22.95\n"
     ]
    }
   ],
   "source": [
    "print(25.5*27)\n",
    "print(25.5*0.9)"
   ]
  },
  {
   "attachments": {},
   "cell_type": "markdown",
   "metadata": {},
   "source": [
    "3) Calcula la relación porcentual entre los siguientes números y redondea la respuesta a su PRIMER número decimal. Ej: X% de 20 es 2 -> R: 10\n",
    "\n",
    "a- X% de 150 es 50 -> 33.3%\n",
    "b- X% de 4.0 es 100.0-> 2500%\n",
    "c- X% de 16/4 es 2->50%\n",
    "d- X% de 10*Pi es 2*Pi->20%\n",
    "e- X% de 3500 es 2500->71,4%\n",
    "30 100\n",
    "x 2000\n",
    "X 100\n",
    "50  150"
   ]
  },
  {
   "cell_type": "code",
   "execution_count": 10,
   "metadata": {},
   "outputs": [
    {
     "name": "stdout",
     "output_type": "stream",
     "text": [
      "33.333333333333336\n",
      "2500.0\n",
      "50.0\n",
      "50.0\n",
      "20.0\n",
      "71.42857142857143\n"
     ]
    }
   ],
   "source": [
    "print((50*100)/150)\n",
    "print((100*100)/4)\n",
    "print((2*100)/4)\n",
    "print((2*100)/4)\n",
    "print((2*3.14*100)/(3.14*10))\n",
    "print((2500*100)/(3500))"
   ]
  },
  {
   "attachments": {},
   "cell_type": "markdown",
   "metadata": {},
   "source": [
    "4) De shopping compré varias prendas por un valor de 350$. Había una promo del 30% sobre la cual se aplico luego un descuento con la tarjeta de fidelidad. Finalmente pagué 196$. Redondea la respuesta a su PRIMER número decimal.\n",
    "\n",
    "a- De qué porcentaje fue el descuento con la tarjeta de fidelidad?-> 14%\n",
    "b- Cuánto dinero me ahorré por la promo y cuanto por la tarjeta de fidelidad?105 te ahorraste, 49$"
   ]
  },
  {
   "cell_type": "code",
   "execution_count": 17,
   "metadata": {},
   "outputs": [
    {
     "name": "stdout",
     "output_type": "stream",
     "text": [
      "56.0\n",
      "49.0\n",
      "105.0\n",
      "31.818181818181817\n"
     ]
    }
   ],
   "source": [
    "# 350 100\n",
    "# 196 x\n",
    "print((100*196)/350)\n",
    "#350-196=\n",
    "#154\n",
    "#hubo un descuento del 44%\n",
    "# 350 100\n",
    "# x  14\n",
    "# 154 100\n",
    "# 49 X\n",
    "print((14*350)/100)\n",
    "print((30*350)/100)\n",
    "print((49*100)/154)"
   ]
  },
  {
   "cell_type": "code",
   "execution_count": null,
   "metadata": {},
   "outputs": [],
   "source": []
  }
 ],
 "metadata": {
  "kernelspec": {
   "display_name": "Python 3",
   "language": "python",
   "name": "python3"
  },
  "language_info": {
   "codemirror_mode": {
    "name": "ipython",
    "version": 3
   },
   "file_extension": ".py",
   "mimetype": "text/x-python",
   "name": "python",
   "nbconvert_exporter": "python",
   "pygments_lexer": "ipython3",
   "version": "3.8.10"
  },
  "orig_nbformat": 4
 },
 "nbformat": 4,
 "nbformat_minor": 2
}
