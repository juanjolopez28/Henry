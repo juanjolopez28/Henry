{
 "cells": [
  {
   "attachments": {},
   "cell_type": "markdown",
   "metadata": {},
   "source": [
    "1) Responde para cada número con N, E, Re, Ra o I según sea Naturales, Enteros, Reales, Racionales o Irracionales. Responder con la categoría más restrictiva, ej: 1 -> R: N.\n",
    "\n",
    "a- 198 -> N\n",
    "b- 4 -> N\n",
    "c- -3.1->Real\n",
    "d- -1/4->Real\n",
    "e- 10.0->Real\n",
    "f- 2*e->Irracional\n",
    "g- -123.0004->Real"
   ]
  },
  {
   "attachments": {},
   "cell_type": "markdown",
   "metadata": {},
   "source": [
    "2) Calcula los siguientes porcentajes y y redondea la respuesta a su PRIMER número decimal\n",
    "\n",
    "a- 30% de 2000 -> 600\n",
    "b- 2000% de 30 -> 600\n",
    "c- 10% de 150 ->15\n",
    "d- 25.5% de 27-> 6.885\n",
    "e- 25.5% de 0.9 ->0,22"
   ]
  },
  {
   "cell_type": "code",
   "execution_count": 2,
   "metadata": {},
   "outputs": [
    {
     "name": "stdout",
     "output_type": "stream",
     "text": [
      "688.5\n",
      "22.95\n"
     ]
    }
   ],
   "source": [
    "print(25.5*27)\n",
    "print(25.5*0.9)"
   ]
  },
  {
   "attachments": {},
   "cell_type": "markdown",
   "metadata": {},
   "source": [
    "3) Calcula la relación porcentual entre los siguientes números y redondea la respuesta a su PRIMER número decimal. Ej: X% de 20 es 2 -> R: 10\n",
    "\n",
    "a- X% de 150 es 50 -> 33.3%\n",
    "b- X% de 4.0 es 100.0-> 2500%\n",
    "c- X% de 16/4 es 2->50%\n",
    "d- X% de 10*Pi es 2*Pi->20%\n",
    "e- X% de 3500 es 2500->71,4%\n",
    "30 100\n",
    "x 2000\n",
    "X 100\n",
    "50  150"
   ]
  },
  {
   "cell_type": "code",
   "execution_count": 10,
   "metadata": {},
   "outputs": [
    {
     "name": "stdout",
     "output_type": "stream",
     "text": [
      "33.333333333333336\n",
      "2500.0\n",
      "50.0\n",
      "50.0\n",
      "20.0\n",
      "71.42857142857143\n"
     ]
    }
   ],
   "source": [
    "print((50*100)/150)\n",
    "print((100*100)/4)\n",
    "print((2*100)/4)\n",
    "print((2*100)/4)\n",
    "print((2*3.14*100)/(3.14*10))\n",
    "print((2500*100)/(3500))"
   ]
  },
  {
   "attachments": {},
   "cell_type": "markdown",
   "metadata": {},
   "source": [
    "4) De shopping compré varias prendas por un valor de 350$. Había una promo del 30% sobre la cual se aplico luego un descuento con la tarjeta de fidelidad. Finalmente pagué 196$. Redondea la respuesta a su PRIMER número decimal.\n",
    "\n",
    "a- De qué porcentaje fue el descuento con la tarjeta de fidelidad?-> 14%\n",
    "b- Cuánto dinero me ahorré por la promo y cuanto por la tarjeta de fidelidad?105 te ahorraste, 49$"
   ]
  },
  {
   "cell_type": "code",
   "execution_count": 17,
   "metadata": {},
   "outputs": [
    {
     "name": "stdout",
     "output_type": "stream",
     "text": [
      "56.0\n",
      "49.0\n",
      "105.0\n",
      "31.818181818181817\n"
     ]
    }
   ],
   "source": [
    "# 350 100\n",
    "# 196 x\n",
    "print((100*196)/350)\n",
    "#350-196=\n",
    "#154\n",
    "#hubo un descuento del 44%\n",
    "# 350 100\n",
    "# x  14\n",
    "# 154 100\n",
    "# 49 X\n",
    "print((14*350)/100)\n",
    "print((30*350)/100)\n",
    "print((49*100)/154)"
   ]
  },
  {
   "attachments": {},
   "cell_type": "markdown",
   "metadata": {},
   "source": [
    "5-.Para cada medida en grados a continuación, responde con la letra que corresponde al ángulo de la figura.\n",
    "\n",
    "30->E\n",
    "45->F\n",
    "60->A\n",
    "90->B\n",
    "150->C\n",
    "120->H\n",
    "180->D\n",
    "90->G\n",
    "\n"
   ]
  },
  {
   "attachments": {},
   "cell_type": "markdown",
   "metadata": {},
   "source": [
    "6.-Para un triángulo rectángulo de cateto_1 = 2, cateto_2= 3 e hipotenusa = 3.6, responde sobre el ángulo menor (redondea la respuesta a su PRIMER número decimal):\n",
    "\n",
    "a- Cuál es su seno?\n",
    "Sen=CO/H\n",
    "b- Cuál es su coseno?\n",
    "Cos=CA/H\n",
    "c- Cuál es su tangente?\n",
    "tan=CO/CA\n"
   ]
  },
  {
   "cell_type": "code",
   "execution_count": 6,
   "metadata": {},
   "outputs": [
    {
     "name": "stdout",
     "output_type": "stream",
     "text": [
      "Seno:  0.5555555555555556 Cos:  0.8333333333333333 Tan:  0.6666666666666666\n"
     ]
    }
   ],
   "source": [
    "cateto_A=3\n",
    "cateto_O=2\n",
    "H=3.6\n",
    "sen=cateto_O/H\n",
    "cos=cateto_A/H\n",
    "tan=cateto_O/cateto_A\n",
    "print('Seno: ',sen,'Cos: ', cos,'Tan: ',tan)"
   ]
  },
  {
   "attachments": {},
   "cell_type": "markdown",
   "metadata": {},
   "source": [
    "Usando las funciones inversas en la calculadora (o bien en internet) arccos, arcsin y/o arctan, responder:\n",
    "\n",
    "d- Cuántos grados mide el menor de los dos ángulos agudos?\n",
    "33.8\n",
    "e- Y el mayor?\n",
    "56.2"
   ]
  },
  {
   "cell_type": "code",
   "execution_count": null,
   "metadata": {},
   "outputs": [],
   "source": [
    "# sea x el angulo,  sen x = CO/H para hallar el angulo el seno pasa con la inversa= x =arcsen(CA/H)"
   ]
  },
  {
   "cell_type": "code",
   "execution_count": 9,
   "metadata": {},
   "outputs": [
    {
     "name": "stdout",
     "output_type": "stream",
     "text": [
      "33.74898859588859\n"
     ]
    }
   ],
   "source": [
    "import math\n",
    "\n",
    "angulo2=math.degrees(math.asin(cateto_O/H))\n",
    "print(angulo2)"
   ]
  },
  {
   "attachments": {},
   "cell_type": "markdown",
   "metadata": {},
   "source": [
    "7) Elige la opción correcta para cada caso.\n",
    "\n",
    "a- 0 = \n",
    "    i- cos(0)\n",
    "    ii- sen(0) Correct\n",
    "b- 1 = \n",
    "    i- cos(0) Correct\n",
    "    ii- sen(0)\n",
    "c- -1 =\n",
    "    i- cos(90)\n",
    "    ii- sen(270) Correcto\n",
    "d- 0 =\n",
    "    i- cos(180)\n",
    "    ii- tg(180) Correcta"
   ]
  },
  {
   "attachments": {},
   "cell_type": "markdown",
   "metadata": {},
   "source": [
    "8) Responde V o F.\n",
    "\n",
    "a- log(3+4) = log(7)-> V\n",
    "b- log(20) = log(10)+log(10) ->F\n",
    "c- 2*log(5) = log(25) -> V\n",
    "d- log(24) - 3*log(2) = log(3) -> V"
   ]
  },
  {
   "cell_type": "code",
   "execution_count": 16,
   "metadata": {},
   "outputs": [
    {
     "name": "stdout",
     "output_type": "stream",
     "text": [
      "3.2188758248682006\n",
      "3.2188758248682006\n",
      "1.09861228866811\n",
      "1.0986122886681098\n"
     ]
    }
   ],
   "source": [
    "print(math.log(25))\n",
    "print(math.log(5)*2)\n",
    "print(math.log(24)-3*math.log(2))\n",
    "print(math.log(3))"
   ]
  },
  {
   "attachments": {},
   "cell_type": "markdown",
   "metadata": {},
   "source": [
    "9) Para cada gráfica, responde si V o F \"es función\":\n",
    "\n",
    "a- Verdadero\n",
    "b- Verdadero\n",
    "c- Falso\n",
    "d- Verdadero\n",
    "e- Falso\n",
    "f- Falso\n",
    "g- Falso\n",
    "h- Falso\n",
    "i- Verdadero"
   ]
  },
  {
   "attachments": {},
   "cell_type": "markdown",
   "metadata": {},
   "source": [
    "10) Para cada tabla, elige la función correspondiente.\n",
    "A) f(x)= x*3+2\n",
    "B) f(x)=x**2\n",
    "C) f(x)=(x/2) +1"
   ]
  },
  {
   "attachments": {},
   "cell_type": "markdown",
   "metadata": {},
   "source": [
    "11) Sobre las funciones del ejercicio anterior, responde V o F.\n",
    "\n",
    "-A  \n",
    "    - pendiente = 4 -> F\n",
    "    - ordenada al origen = 2 ->V\n",
    "    - no es una recta->F\n",
    "\n",
    "-B  \n",
    "    - pendiente = 2->F\n",
    "    - ordenada al origen = 0 ->V\n",
    "    - no es una recta->V\n",
    "\n",
    "-C  \n",
    "    - pendiente = 0.5->V\n",
    "    - ordenada al origen = 1 ->V\n",
    "    - no es una recta->F"
   ]
  },
  {
   "attachments": {},
   "cell_type": "markdown",
   "metadata": {},
   "source": [
    "12) Calcula la pendiente y ordenada al origen de la siguiente recta:\n",
    "\n",
    "p1=(0,2)\n",
    "p2=(4,0)\n",
    "m=(2-0)/(0-4)\n",
    "m=(-0,5)\n",
    "Valor indenpeinde es cuando f(0)=2"
   ]
  }
 ],
 "metadata": {
  "kernelspec": {
   "display_name": "Python 3",
   "language": "python",
   "name": "python3"
  },
  "language_info": {
   "codemirror_mode": {
    "name": "ipython",
    "version": 3
   },
   "file_extension": ".py",
   "mimetype": "text/x-python",
   "name": "python",
   "nbconvert_exporter": "python",
   "pygments_lexer": "ipython3",
   "version": "3.8.10"
  },
  "orig_nbformat": 4
 },
 "nbformat": 4,
 "nbformat_minor": 2
}
