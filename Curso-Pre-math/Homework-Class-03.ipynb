{
 "cells": [
  {
   "attachments": {},
   "cell_type": "markdown",
   "metadata": {},
   "source": [
    "1) Responde Verdadero o Falso\n",
    "\n",
    "a- Los vectores se pueden describir en base a su módulo y dirección\n",
    "    Verdadero\n",
    "b- Los vectores se pueden describir en base a sus componentes cartesianos\n",
    "    Verdadero\n",
    "c- Dos vectores pueden tener misma dirección pero distinto sentido\n",
    "    Verdadero\n",
    "d- Dos vectores no pueden tener mismo módulo pero direcciones distintas\n",
    "    Falso"
   ]
  },
  {
   "attachments": {},
   "cell_type": "markdown",
   "metadata": {},
   "source": [
    "2) ¿Cuál es el módulo de los siguientes vectores?\n",
    "\n",
    "a- (3,4)-> 5        \n",
    "b- (1,1)-> 1,41      \n",
    "c- (10,10)-> 14,14     \n",
    "d- (-3,-4)->5      "
   ]
  },
  {
   "cell_type": "code",
   "execution_count": 8,
   "metadata": {},
   "outputs": [
    {
     "name": "stdout",
     "output_type": "stream",
     "text": [
      "5.0\n"
     ]
    }
   ],
   "source": [
    "import math\n",
    "def modulo(tupla):\n",
    "    return math.sqrt(tupla[0]**2 +tupla[1]**2)\n",
    "\n",
    "\n",
    "print(modulo((-3,-4)))"
   ]
  },
  {
   "attachments": {},
   "cell_type": "markdown",
   "metadata": {},
   "source": [
    "3) Resolver las siguientes multiplicaciones de vectores por escalares\n",
    "\n",
    "a- (1,1) * 3 -> (3,3)\n",
    "b- (12,15) * 1/3 -> (4,5)       \n",
    "c- (10,1) * 10 -> (1,0,10)\n",
    "d- (4,5) * 5 -> (0,8,1)"
   ]
  },
  {
   "attachments": {},
   "cell_type": "markdown",
   "metadata": {},
   "source": [
    "4) Responder Verdadero o Falso\n",
    "\n",
    "a- El producto escalar de dos vectores obtiene multiplicando entre sí la norma de cada vector y el coseno del ángulo que se forma entre ellos.\n",
    "  V\n",
    "b- El producto escalar siempre da como resultado un escalar.\n",
    "   V\n",
    "c- El producto vectorial da como resultado otro vector.\n",
    "    V\n",
    "d- Si dos vectores son paralelos, el angulo entre ellos es 90 grados.\n",
    "    Falso"
   ]
  },
  {
   "attachments": {},
   "cell_type": "markdown",
   "metadata": {},
   "source": [
    "5) ¿Que dimensiones tienen las siguientes matrices?\n",
    "\n",
    "a- 5 filas y 7 columnas -> 5x7   \n",
    "b- 2 columnas y 9 filas -> 9x 2\n",
    "c- 3 filas y 3 columnas -> 3x3"
   ]
  },
  {
   "attachments": {},
   "cell_type": "markdown",
   "metadata": {},
   "source": [
    "6) Responder con Si/No si es posible realizar las siguientes operaciones entre matrices:\n",
    "\n",
    "a- (3 x 4) + (1 x 2)        \n",
    "b- (1 x 1) + (1 x 1)        \n",
    "c- (8 x 8) - (1 x 1)        \n",
    "d- (4 x 2) - (2 x 3)        \n",
    "d- (4 x 2) * (2 x 3)    "
   ]
  }
 ],
 "metadata": {
  "kernelspec": {
   "display_name": "Python 3",
   "language": "python",
   "name": "python3"
  },
  "language_info": {
   "codemirror_mode": {
    "name": "ipython",
    "version": 3
   },
   "file_extension": ".py",
   "mimetype": "text/x-python",
   "name": "python",
   "nbconvert_exporter": "python",
   "pygments_lexer": "ipython3",
   "version": "3.8.10"
  },
  "orig_nbformat": 4
 },
 "nbformat": 4,
 "nbformat_minor": 2
}
