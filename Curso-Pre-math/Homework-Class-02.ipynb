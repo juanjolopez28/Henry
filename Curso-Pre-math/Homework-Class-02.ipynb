{
 "cells": [
  {
   "attachments": {},
   "cell_type": "markdown",
   "metadata": {},
   "source": [
    "1.-Calcula los siguientes límites. Redondea la respuesta a su PRIMER número decimal o responde inf en caso de infinito o -inf en caso de menos infinito.\n",
    "\n",
    "a- lim x->2 de f(x) = 2*x + 1-> 5\n",
    "b- lim x->0+ de f(x) = 1 - 1/x -> -00\n",
    "c- lim k->inf de g(k) = 10 + 1/log(k) ->10\n",
    "d- lim h->10 de g(h) = 1/(h-10)->00\n",
    "e- lim t->5 de d(t) = 25-t^2 -> 0 \n",
    "f- lim x->-inf de f(x) = 1 - 1/x si x>0\n",
    "                        -3 si x<=0"
   ]
  },
  {
   "attachments": {},
   "cell_type": "markdown",
   "metadata": {},
   "source": [
    "2) Responde V o F - continuidad\n",
    "a- La función g(j) = j + 3 es continua en todo su dominio -> V\n",
    "b- La función g(j) = 3 * j - 2 no esta definida en todo R ->F\n",
    "   f(x) = 1 - 1/x si x>0\n",
    "          -3 si x<=0\n",
    "   c- posee una discontinuidad evitable en x=0\n",
    "   d- posee una discontinuidad inevitable en x=0\n",
    "   e- es igual a -3 en x=0\n",
    "   f- es continua para x>2"
   ]
  },
  {
   "attachments": {},
   "cell_type": "markdown",
   "metadata": {},
   "source": [
    "3) Responde V o F - derivabilidad\n",
    "\n",
    "a- La función m(j) = log(j) no es derivable en todo su dominio\n",
    "b- Una función continua en todo su dominio es derivable en todo su dominio\n",
    "c- Una función h(j) es continua en j=3 si es derivable en j=3\n",
    "   f(x) = x si x>0\n",
    "          -x si x<=0\n",
    "   d- es continua en x=0\n",
    "   e- es derivable en x=0\n",
    "   f- es derivable con derivada negativa en x=1\n",
    "g- La derivada de b(l) = l^2 en l = 0 es positiva\n",
    "h- La derivada de k(l) = l^2 en l = 0 es 0\n",
    "i- La derivada de b(r) = r^2 en r = 3 es positiva"
   ]
  },
  {
   "attachments": {},
   "cell_type": "markdown",
   "metadata": {},
   "source": [
    "4) Usando una tabla de derivadas, calcula el valor de la derivada en el punto indicado y redondea la respuesta a su PRIMER número decimal.\n",
    "\n",
    "a- f(x) = 2*x + 1, f'(2) = 3\n",
    "b- f(x) = x^2, f'(0) = 0\n",
    "c- f(x) = x^3 - 2, f'(0) = -2"
   ]
  },
  {
   "attachments": {},
   "cell_type": "markdown",
   "metadata": {},
   "source": [
    "5) Responde V o F en cada caso:\n",
    "\n",
    "La función    f(x) = (x-1)^2 si x>0\n",
    "                     (-1)*(x+1)^2 si x<=0\n",
    "\n",
    "a- Tiene un máximo en x=1\n",
    "b- Tiene un máximo en x=-1\n",
    "c- Es continua en x=0\n",
    "d- Tiene una discontinuidad inevitable finita en x=0\n",
    "e- Tiene un mínimo en x=-1\n",
    "f- f'(4)>0"
   ]
  }
 ],
 "metadata": {
  "language_info": {
   "name": "python"
  },
  "orig_nbformat": 4
 },
 "nbformat": 4,
 "nbformat_minor": 2
}
